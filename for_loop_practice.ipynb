{
  "nbformat": 4,
  "nbformat_minor": 0,
  "metadata": {
    "colab": {
      "provenance": [],
      "authorship_tag": "ABX9TyM9Cxpx2hz9dRkLhmJ2iDjW",
      "include_colab_link": true
    },
    "kernelspec": {
      "name": "python3",
      "display_name": "Python 3"
    },
    "language_info": {
      "name": "python"
    }
  },
  "cells": [
    {
      "cell_type": "markdown",
      "metadata": {
        "id": "view-in-github",
        "colab_type": "text"
      },
      "source": [
        "<a href=\"https://colab.research.google.com/github/Amitkmar/python-programming/blob/main/for_loop_practice.ipynb\" target=\"_parent\"><img src=\"https://colab.research.google.com/assets/colab-badge.svg\" alt=\"Open In Colab\"/></a>"
      ]
    },
    {
      "cell_type": "code",
      "execution_count": 3,
      "metadata": {
        "id": "pYfdfjVT4F1T"
      },
      "outputs": [],
      "source": [
        "l=[1,2,3,4,5]"
      ]
    },
    {
      "cell_type": "code",
      "source": [
        "for i in l:\n",
        "  print(i,type(i))"
      ],
      "metadata": {
        "colab": {
          "base_uri": "https://localhost:8080/"
        },
        "id": "q1iiVLvn7LOZ",
        "outputId": "92cc2ff0-6c5e-4c9e-9d28-6676cf297e5d"
      },
      "execution_count": 4,
      "outputs": [
        {
          "output_type": "stream",
          "name": "stdout",
          "text": [
            "1 <class 'int'>\n",
            "2 <class 'int'>\n",
            "3 <class 'int'>\n",
            "4 <class 'int'>\n",
            "5 <class 'int'>\n"
          ]
        }
      ]
    },
    {
      "cell_type": "code",
      "source": [
        "l1=['Amit','Kumar','Garg']\n",
        "for i in l1:\n",
        "  print(i,type(i))"
      ],
      "metadata": {
        "colab": {
          "base_uri": "https://localhost:8080/"
        },
        "id": "pe4lcyHd7dRS",
        "outputId": "2a5b8709-5c9e-4a71-c520-bbd6ae62e107"
      },
      "execution_count": 5,
      "outputs": [
        {
          "output_type": "stream",
          "name": "stdout",
          "text": [
            "Amit <class 'str'>\n",
            "Kumar <class 'str'>\n",
            "Garg <class 'str'>\n"
          ]
        }
      ]
    },
    {
      "cell_type": "code",
      "source": [
        "l1"
      ],
      "metadata": {
        "colab": {
          "base_uri": "https://localhost:8080/"
        },
        "id": "NVPwJbGn7wzD",
        "outputId": "600a39b2-7c1b-4c5e-d078-6e1bc5c9e657"
      },
      "execution_count": 6,
      "outputs": [
        {
          "output_type": "execute_result",
          "data": {
            "text/plain": [
              "['Amit', 'Kumar', 'Garg']"
            ]
          },
          "metadata": {},
          "execution_count": 6
        }
      ]
    },
    {
      "cell_type": "markdown",
      "source": [
        "for else statement in python"
      ],
      "metadata": {
        "id": "rvu9os608Xzs"
      }
    },
    {
      "cell_type": "code",
      "source": [
        "for i in l1 :\n",
        "  print(i)\n",
        "else:\n",
        "  print('if for loop executed succesfully then only else block executed ')\n"
      ],
      "metadata": {
        "colab": {
          "base_uri": "https://localhost:8080/"
        },
        "id": "qxK-oRZC8R59",
        "outputId": "afb51222-bafb-48d1-a2de-75e4d37ca75a"
      },
      "execution_count": 7,
      "outputs": [
        {
          "output_type": "stream",
          "name": "stdout",
          "text": [
            "Amit\n",
            "Kumar\n",
            "Garg\n",
            "if for loop executed succesfully then only else block executed \n"
          ]
        }
      ]
    },
    {
      "cell_type": "code",
      "source": [
        "for i in l1:\n",
        "  if i=='Kumar' :#string pass hogi Kumar\n",
        "    break\n",
        "  print(i)"
      ],
      "metadata": {
        "colab": {
          "base_uri": "https://localhost:8080/"
        },
        "id": "h2LKMDAm851P",
        "outputId": "6ddd722a-c4d5-412f-ee3a-366bb37bd8f4"
      },
      "execution_count": 8,
      "outputs": [
        {
          "output_type": "stream",
          "name": "stdout",
          "text": [
            "Amit\n"
          ]
        }
      ]
    },
    {
      "cell_type": "code",
      "source": [
        "for i in l1:\n",
        "  if i=='Kumar' :#string pass hogi Kumar\n",
        "    break\n",
        "  print(i)\n",
        "else:\n",
        "  print('execute this if for loop is able to complete itself')\n",
        "  #break statement stop execution of for loop"
      ],
      "metadata": {
        "id": "9FQ4GCuV9VGh",
        "colab": {
          "base_uri": "https://localhost:8080/"
        },
        "outputId": "35be56e3-8866-4e13-e997-3d0bc2b4e577"
      },
      "execution_count": 9,
      "outputs": [
        {
          "output_type": "stream",
          "name": "stdout",
          "text": [
            "Amit\n"
          ]
        }
      ]
    },
    {
      "cell_type": "code",
      "source": [
        "for i in l1:\n",
        "  if i=='Kumar' :#string pass hogi Kumar\n",
        "    continue     #control wapas for loop ko\n",
        "  print(i)"
      ],
      "metadata": {
        "colab": {
          "base_uri": "https://localhost:8080/"
        },
        "id": "v4tTdnDp44bw",
        "outputId": "a583275a-2f6d-453a-a5b1-ab70b8a24700"
      },
      "execution_count": 11,
      "outputs": [
        {
          "output_type": "stream",
          "name": "stdout",
          "text": [
            "Amit\n",
            "Garg\n"
          ]
        }
      ]
    },
    {
      "cell_type": "code",
      "source": [
        "for i in l1:\n",
        "  if i=='Kumar' :#string pass hogi Kumar\n",
        "    continue\n",
        "  print(i)\n",
        "else:\n",
        "  print('execute this if for loop is able to complete itself')\n",
        "  #continue statement not stop execution of for loop"
      ],
      "metadata": {
        "colab": {
          "base_uri": "https://localhost:8080/"
        },
        "id": "RiJY7pqW5oAE",
        "outputId": "6a3570ee-c5f1-4f8e-cfa0-a3dcd1f3eff5"
      },
      "execution_count": 12,
      "outputs": [
        {
          "output_type": "stream",
          "name": "stdout",
          "text": [
            "Amit\n",
            "Garg\n",
            "execute this if for loop is able to complete itself\n"
          ]
        }
      ]
    },
    {
      "cell_type": "code",
      "source": [
        "range(5) #generator function used to generate data"
      ],
      "metadata": {
        "colab": {
          "base_uri": "https://localhost:8080/"
        },
        "id": "INjA3SfD5Y52",
        "outputId": "eabeaa77-7e77-47e6-9159-7bac4c32dac1"
      },
      "execution_count": 13,
      "outputs": [
        {
          "output_type": "execute_result",
          "data": {
            "text/plain": [
              "range(0, 5)"
            ]
          },
          "metadata": {},
          "execution_count": 13
        }
      ]
    },
    {
      "cell_type": "code",
      "source": [
        "list(range(5))"
      ],
      "metadata": {
        "colab": {
          "base_uri": "https://localhost:8080/"
        },
        "id": "vXc4n9os59Ur",
        "outputId": "d38a065b-dbbe-4ad6-c078-d914309c6352"
      },
      "execution_count": 14,
      "outputs": [
        {
          "output_type": "execute_result",
          "data": {
            "text/plain": [
              "[0, 1, 2, 3, 4]"
            ]
          },
          "metadata": {},
          "execution_count": 14
        }
      ]
    },
    {
      "cell_type": "code",
      "source": [
        "list(range(0,5,1))"
      ],
      "metadata": {
        "colab": {
          "base_uri": "https://localhost:8080/"
        },
        "id": "s91SeXE56H0f",
        "outputId": "d1ff0322-5d76-42e6-fc2f-97e21419aadf"
      },
      "execution_count": 15,
      "outputs": [
        {
          "output_type": "execute_result",
          "data": {
            "text/plain": [
              "[0, 1, 2, 3, 4]"
            ]
          },
          "metadata": {},
          "execution_count": 15
        }
      ]
    },
    {
      "cell_type": "code",
      "source": [
        "list(range(0,20,2))"
      ],
      "metadata": {
        "colab": {
          "base_uri": "https://localhost:8080/"
        },
        "id": "_AtxR2yz6PWX",
        "outputId": "8584254c-8f59-4026-f138-5d5b2001006b"
      },
      "execution_count": 16,
      "outputs": [
        {
          "output_type": "execute_result",
          "data": {
            "text/plain": [
              "[0, 2, 4, 6, 8, 10, 12, 14, 16, 18]"
            ]
          },
          "metadata": {},
          "execution_count": 16
        }
      ]
    },
    {
      "cell_type": "code",
      "source": [
        "list(range(-10,0))"
      ],
      "metadata": {
        "colab": {
          "base_uri": "https://localhost:8080/"
        },
        "id": "PEaPwdIY6T3J",
        "outputId": "dd4bb5ad-dea2-4583-8be3-0d7eb9f4915c"
      },
      "execution_count": 17,
      "outputs": [
        {
          "output_type": "execute_result",
          "data": {
            "text/plain": [
              "[-10, -9, -8, -7, -6, -5, -4, -3, -2, -1]"
            ]
          },
          "metadata": {},
          "execution_count": 17
        }
      ]
    },
    {
      "cell_type": "code",
      "source": [
        "list(range(len(l1)))"
      ],
      "metadata": {
        "colab": {
          "base_uri": "https://localhost:8080/"
        },
        "id": "7bCMFSOe6aFC",
        "outputId": "250023d9-1e79-445c-8955-9ab7e90ace14"
      },
      "execution_count": 18,
      "outputs": [
        {
          "output_type": "execute_result",
          "data": {
            "text/plain": [
              "[0, 1, 2]"
            ]
          },
          "metadata": {},
          "execution_count": 18
        }
      ]
    },
    {
      "cell_type": "code",
      "source": [
        "for i in range(len(l1)):\n",
        "  print(l1[i])"
      ],
      "metadata": {
        "colab": {
          "base_uri": "https://localhost:8080/"
        },
        "id": "web8_Tgy6i3A",
        "outputId": "0e9d18f2-9928-42c1-ff09-161750a4a85c"
      },
      "execution_count": 19,
      "outputs": [
        {
          "output_type": "stream",
          "name": "stdout",
          "text": [
            "Amit\n",
            "Kumar\n",
            "Garg\n"
          ]
        }
      ]
    },
    {
      "cell_type": "code",
      "source": [
        "len(l1)"
      ],
      "metadata": {
        "colab": {
          "base_uri": "https://localhost:8080/"
        },
        "id": "XpEewCAu6qam",
        "outputId": "db70e26b-8a23-46d4-e320-c03d8b9de4f8"
      },
      "execution_count": 20,
      "outputs": [
        {
          "output_type": "execute_result",
          "data": {
            "text/plain": [
              "3"
            ]
          },
          "metadata": {},
          "execution_count": 20
        }
      ]
    },
    {
      "cell_type": "code",
      "source": [
        "list(range(len(l1),0,-1))"
      ],
      "metadata": {
        "colab": {
          "base_uri": "https://localhost:8080/"
        },
        "id": "lNkJfxV861S2",
        "outputId": "612d1e9b-0a91-4da0-8912-bd0d964fb4f9"
      },
      "execution_count": 22,
      "outputs": [
        {
          "output_type": "execute_result",
          "data": {
            "text/plain": [
              "[3, 2, 1]"
            ]
          },
          "metadata": {},
          "execution_count": 22
        }
      ]
    },
    {
      "cell_type": "code",
      "source": [
        "#printing a list in reverse order\n",
        "#l1=['Amit','Kumar','Garg']\n",
        "for i in range(len(l1)-1,-1,-1):\n",
        "  print(l1[i])"
      ],
      "metadata": {
        "colab": {
          "base_uri": "https://localhost:8080/"
        },
        "id": "n2gxanPH6_ob",
        "outputId": "e4351675-4843-4e19-b256-19eddd3ebb77"
      },
      "execution_count": 23,
      "outputs": [
        {
          "output_type": "stream",
          "name": "stdout",
          "text": [
            "Garg\n",
            "Kumar\n",
            "Amit\n"
          ]
        }
      ]
    },
    {
      "cell_type": "code",
      "source": [
        "for i in [2,1,0]:   #hard code because we donot know the size of list\n",
        "  print(l1[i])"
      ],
      "metadata": {
        "colab": {
          "base_uri": "https://localhost:8080/"
        },
        "id": "kiXxQ6lM7bPX",
        "outputId": "9a43ffb5-3a2f-40ec-a835-5c89c91431e7"
      },
      "execution_count": 24,
      "outputs": [
        {
          "output_type": "stream",
          "name": "stdout",
          "text": [
            "Garg\n",
            "Kumar\n",
            "Amit\n"
          ]
        }
      ]
    },
    {
      "cell_type": "code",
      "source": [
        "l2=[23,5,45,56,6,67,67,78,87,8998,9,9,8]\n",
        "#even place element print\n",
        "#list(range(0,len(l2),2))\n",
        "for i in range (0,len(l2),2):\n",
        "  print(l2[i])"
      ],
      "metadata": {
        "colab": {
          "base_uri": "https://localhost:8080/"
        },
        "id": "nVtq8RBn7qkr",
        "outputId": "017773e3-2151-49d9-d0ce-ddb1f186b1ef"
      },
      "execution_count": 25,
      "outputs": [
        {
          "output_type": "stream",
          "name": "stdout",
          "text": [
            "23\n",
            "45\n",
            "6\n",
            "67\n",
            "87\n",
            "9\n",
            "8\n"
          ]
        }
      ]
    },
    {
      "cell_type": "code",
      "source": [
        "l=[1,2,3,4,7,8,98]\n",
        "#print sum of all element\n",
        "sum(l)"
      ],
      "metadata": {
        "colab": {
          "base_uri": "https://localhost:8080/"
        },
        "id": "swFZYTPe8Zno",
        "outputId": "c35e33a4-4900-491f-f815-033d9025aed0"
      },
      "execution_count": 26,
      "outputs": [
        {
          "output_type": "execute_result",
          "data": {
            "text/plain": [
              "123"
            ]
          },
          "metadata": {},
          "execution_count": 26
        }
      ]
    },
    {
      "cell_type": "code",
      "source": [
        "l=[1,2,3,4,7,8,98]\n",
        "#print sum of all element\n",
        "result=0\n",
        "for i in l :\n",
        "  result = result+i\n",
        "result"
      ],
      "metadata": {
        "colab": {
          "base_uri": "https://localhost:8080/"
        },
        "id": "yksJcArU8qil",
        "outputId": "671a3bf8-71f5-4755-c4c7-074fe1e5c6aa"
      },
      "execution_count": 27,
      "outputs": [
        {
          "output_type": "execute_result",
          "data": {
            "text/plain": [
              "123"
            ]
          },
          "metadata": {},
          "execution_count": 27
        }
      ]
    },
    {
      "cell_type": "code",
      "source": [
        "t=(1,2,3,4,5,6)\n",
        "#print sum of all element\n",
        "result=0\n",
        "for i in t :\n",
        "  result = result+i\n",
        "result"
      ],
      "metadata": {
        "colab": {
          "base_uri": "https://localhost:8080/"
        },
        "id": "xjg8sRfg8_oT",
        "outputId": "cc381789-166f-4598-a02c-147afecca213"
      },
      "execution_count": 28,
      "outputs": [
        {
          "output_type": "execute_result",
          "data": {
            "text/plain": [
              "21"
            ]
          },
          "metadata": {},
          "execution_count": 28
        }
      ]
    },
    {
      "cell_type": "code",
      "source": [
        "s = {1,2,3,4,5,\"amit\",\"datascience\"}\n",
        "for i in s:\n",
        "  print(i)  # indexing is not performed in sets"
      ],
      "metadata": {
        "colab": {
          "base_uri": "https://localhost:8080/"
        },
        "id": "V3apKfKo9P0J",
        "outputId": "b78ccec2-afb0-459e-b099-8e30434be4e0"
      },
      "execution_count": 31,
      "outputs": [
        {
          "output_type": "stream",
          "name": "stdout",
          "text": [
            "1\n",
            "2\n",
            "3\n",
            "4\n",
            "5\n",
            "datascience\n",
            "amit\n"
          ]
        }
      ]
    },
    {
      "cell_type": "code",
      "source": [
        "d = {\"name\":\"sudh\",\"class\":\"datascience\",\"topic\":[\"python\",\"stats\",\"machine learning\",\"DL\",\"CV\",\"NLP\",\"resume\",\"interview\"]}"
      ],
      "metadata": {
        "id": "PMS89O6U9n9-"
      },
      "execution_count": 43,
      "outputs": []
    },
    {
      "cell_type": "code",
      "source": [
        "f"
      ],
      "metadata": {
        "colab": {
          "base_uri": "https://localhost:8080/"
        },
        "id": "eqVCBsge-SYN",
        "outputId": "929f775c-765b-4655-8a8b-d405b47066fe"
      },
      "execution_count": 44,
      "outputs": [
        {
          "output_type": "execute_result",
          "data": {
            "text/plain": [
              "{'name': 'sudh',\n",
              " 'class': 'datascience',\n",
              " 'topic': ['python',\n",
              "  'stats',\n",
              "  'machine learning',\n",
              "  'DL',\n",
              "  'CV',\n",
              "  'NLP',\n",
              "  'resume',\n",
              "  'interview']}"
            ]
          },
          "metadata": {},
          "execution_count": 44
        }
      ]
    },
    {
      "cell_type": "code",
      "source": [
        "d.keys()"
      ],
      "metadata": {
        "colab": {
          "base_uri": "https://localhost:8080/"
        },
        "id": "aUGk0UOE_aNw",
        "outputId": "2c41da3c-8e41-4930-b6dd-8e4047d5a94f"
      },
      "execution_count": 45,
      "outputs": [
        {
          "output_type": "execute_result",
          "data": {
            "text/plain": [
              "dict_keys(['name', 'class', 'topic'])"
            ]
          },
          "metadata": {},
          "execution_count": 45
        }
      ]
    },
    {
      "cell_type": "code",
      "source": [
        "for i in d.keys():\n",
        "  print(d[i])"
      ],
      "metadata": {
        "colab": {
          "base_uri": "https://localhost:8080/"
        },
        "id": "3SNUEKwU_lKG",
        "outputId": "048a44c0-d186-4656-fad9-c73f24efc7e3"
      },
      "execution_count": 46,
      "outputs": [
        {
          "output_type": "stream",
          "name": "stdout",
          "text": [
            "sudh\n",
            "datascience\n",
            "['python', 'stats', 'machine learning', 'DL', 'CV', 'NLP', 'resume', 'interview']\n"
          ]
        }
      ]
    },
    {
      "cell_type": "code",
      "source": [
        "d.values()"
      ],
      "metadata": {
        "colab": {
          "base_uri": "https://localhost:8080/"
        },
        "id": "0VLWuoyJ_vL5",
        "outputId": "7c6f9e5d-86f4-4cab-a619-b38421f2fab8"
      },
      "execution_count": 47,
      "outputs": [
        {
          "output_type": "execute_result",
          "data": {
            "text/plain": [
              "dict_values(['sudh', 'datascience', ['python', 'stats', 'machine learning', 'DL', 'CV', 'NLP', 'resume', 'interview']])"
            ]
          },
          "metadata": {},
          "execution_count": 47
        }
      ]
    },
    {
      "cell_type": "code",
      "source": [
        "for i in d.values():\n",
        "  print(i)"
      ],
      "metadata": {
        "colab": {
          "base_uri": "https://localhost:8080/"
        },
        "id": "bIVIcaG4_10x",
        "outputId": "f25eeb1f-61d2-4a87-ec70-4cea6651689c"
      },
      "execution_count": 48,
      "outputs": [
        {
          "output_type": "stream",
          "name": "stdout",
          "text": [
            "sudh\n",
            "datascience\n",
            "['python', 'stats', 'machine learning', 'DL', 'CV', 'NLP', 'resume', 'interview']\n"
          ]
        }
      ]
    },
    {
      "cell_type": "code",
      "source": [
        "d.items()"
      ],
      "metadata": {
        "colab": {
          "base_uri": "https://localhost:8080/"
        },
        "id": "6l5KHu2ZAA3T",
        "outputId": "c2b0fe4a-5f0d-4f8b-a3b1-fa3c804a7bf8"
      },
      "execution_count": 49,
      "outputs": [
        {
          "output_type": "execute_result",
          "data": {
            "text/plain": [
              "dict_items([('name', 'sudh'), ('class', 'datascience'), ('topic', ['python', 'stats', 'machine learning', 'DL', 'CV', 'NLP', 'resume', 'interview'])])"
            ]
          },
          "metadata": {},
          "execution_count": 49
        }
      ]
    },
    {
      "cell_type": "code",
      "source": [
        "for i in d.items():\n",
        "  print(i)"
      ],
      "metadata": {
        "colab": {
          "base_uri": "https://localhost:8080/"
        },
        "id": "Fm3Kehg6AFNG",
        "outputId": "932fdd49-609e-48a2-87ba-be8c3bbc7d46"
      },
      "execution_count": 50,
      "outputs": [
        {
          "output_type": "stream",
          "name": "stdout",
          "text": [
            "('name', 'sudh')\n",
            "('class', 'datascience')\n",
            "('topic', ['python', 'stats', 'machine learning', 'DL', 'CV', 'NLP', 'resume', 'interview'])\n"
          ]
        }
      ]
    },
    {
      "cell_type": "code",
      "source": [],
      "metadata": {
        "id": "KIn2X1-qAPel"
      },
      "execution_count": null,
      "outputs": []
    }
  ]
}