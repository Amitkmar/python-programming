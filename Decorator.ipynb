{
  "nbformat": 4,
  "nbformat_minor": 0,
  "metadata": {
    "colab": {
      "provenance": [],
      "authorship_tag": "ABX9TyO8sbi3B1WS9p5Dssv2arL6",
      "include_colab_link": true
    },
    "kernelspec": {
      "name": "python3",
      "display_name": "Python 3"
    },
    "language_info": {
      "name": "python"
    }
  },
  "cells": [
    {
      "cell_type": "markdown",
      "metadata": {
        "id": "view-in-github",
        "colab_type": "text"
      },
      "source": [
        "<a href=\"https://colab.research.google.com/github/Amitkmar/python-programming/blob/main/Decorator.ipynb\" target=\"_parent\"><img src=\"https://colab.research.google.com/assets/colab-badge.svg\" alt=\"Open In Colab\"/></a>"
      ]
    },
    {
      "cell_type": "code",
      "execution_count": 1,
      "metadata": {
        "id": "meYrecrcqTGx"
      },
      "outputs": [],
      "source": [
        "def test():\n",
        "  print(\"this is the start of my function\")\n",
        "  print(\"this is my function to test\")\n",
        "  print(7+6)\n",
        "  print(\"this is the end of my function\")"
      ]
    },
    {
      "cell_type": "code",
      "source": [
        "test()"
      ],
      "metadata": {
        "colab": {
          "base_uri": "https://localhost:8080/"
        },
        "id": "7V4DIqVDxyms",
        "outputId": "5d91179d-5e06-41fe-9594-5837305c385a"
      },
      "execution_count": 2,
      "outputs": [
        {
          "output_type": "stream",
          "name": "stdout",
          "text": [
            "this is the start of my function\n",
            "this is my function to test\n",
            "13\n",
            "this is the end of my function\n"
          ]
        }
      ]
    },
    {
      "cell_type": "code",
      "source": [
        "# when we pass an function as an argument in another function\n",
        "def deco(func):\n",
        "  def inner_deco():\n",
        "    print(\"this is the start of my function\")\n",
        "    func()\n",
        "    print(\"this is the end of my function\")\n",
        "  return inner_deco"
      ],
      "metadata": {
        "id": "DfQ0fIT4yCek"
      },
      "execution_count": 1,
      "outputs": []
    },
    {
      "cell_type": "code",
      "source": [
        "#test1 function ko as an argument pass krne ke liye @deco likhnas hoga\n",
        "#deco function main test1 as an argument pass ho jayega\n",
        "#phele deco function execute hoga\n",
        "@deco\n",
        "def test1():\n",
        "  print (6+3)\n",
        ""
      ],
      "metadata": {
        "id": "6j-AgyjoDHYV"
      },
      "execution_count": 5,
      "outputs": []
    },
    {
      "cell_type": "code",
      "source": [
        "#calling test1 function\n",
        "test1()"
      ],
      "metadata": {
        "colab": {
          "base_uri": "https://localhost:8080/"
        },
        "id": "2bpczl1JDyKL",
        "outputId": "fd28bae2-9ee8-483e-f3bf-4683af195efa"
      },
      "execution_count": 6,
      "outputs": [
        {
          "output_type": "stream",
          "name": "stdout",
          "text": [
            "this is the start of my function\n",
            "9\n",
            "this is the end of my function\n"
          ]
        }
      ]
    },
    {
      "cell_type": "code",
      "source": [
        "#koi function execute hone main kitna time le raha hai\n",
        "#ye nikalne k liye time package ko import krna hoga\n",
        "import time\n",
        "def timer_test(func):\n",
        "  def timer_test_inner():\n",
        "    start= time.time()\n",
        "    func()\n",
        "    end= time.time()\n",
        "     # Added line to print execution time\n",
        "    print(f\"Execution time: {end - start} seconds\")\n",
        "  return timer_test_inner"
      ],
      "metadata": {
        "id": "FGMFExzNEjV-"
      },
      "execution_count": 15,
      "outputs": []
    },
    {
      "cell_type": "code",
      "source": [
        "def test2():\n",
        "  print(10+44)"
      ],
      "metadata": {
        "id": "sP1gAU7iFw6u"
      },
      "execution_count": 16,
      "outputs": []
    },
    {
      "cell_type": "code",
      "source": [
        "@timer_test\n",
        "def test2():\n",
        "  print(10+44)"
      ],
      "metadata": {
        "id": "bgVp-jzFF7KO"
      },
      "execution_count": 17,
      "outputs": []
    },
    {
      "cell_type": "code",
      "source": [
        "test2()"
      ],
      "metadata": {
        "colab": {
          "base_uri": "https://localhost:8080/"
        },
        "id": "dG2z7QcuGE5l",
        "outputId": "8a399157-8d34-461a-91f1-32218a69a700"
      },
      "execution_count": 18,
      "outputs": [
        {
          "output_type": "stream",
          "name": "stdout",
          "text": [
            "54\n",
            "Execution time: 0.000293731689453125 seconds\n"
          ]
        }
      ]
    },
    {
      "cell_type": "code",
      "source": [
        "@timer_test\n",
        "def test():\n",
        "    for i in range(1000):\n",
        "        pass"
      ],
      "metadata": {
        "id": "IQy8WZuaGHLl"
      },
      "execution_count": 21,
      "outputs": []
    },
    {
      "cell_type": "code",
      "source": [
        "test()"
      ],
      "metadata": {
        "colab": {
          "base_uri": "https://localhost:8080/"
        },
        "id": "XX--dNh-HYC5",
        "outputId": "3dc7da6c-89d0-4392-e421-276437df9a45"
      },
      "execution_count": 22,
      "outputs": [
        {
          "output_type": "stream",
          "name": "stdout",
          "text": [
            "Execution time: 5.555152893066406e-05 seconds\n"
          ]
        }
      ]
    },
    {
      "cell_type": "code",
      "source": [],
      "metadata": {
        "id": "PNfKg_4tHaXW"
      },
      "execution_count": null,
      "outputs": []
    }
  ]
}