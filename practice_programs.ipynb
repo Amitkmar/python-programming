{
  "nbformat": 4,
  "nbformat_minor": 0,
  "metadata": {
    "colab": {
      "provenance": []
    },
    "kernelspec": {
      "name": "python3",
      "display_name": "Python 3"
    },
    "language_info": {
      "name": "python"
    }
  },
  "cells": [
    {
      "cell_type": "code",
      "execution_count": 2,
      "metadata": {
        "colab": {
          "base_uri": "https://localhost:8080/"
        },
        "id": "9uRWCAwg2e4G",
        "outputId": "4ec17184-c342-4e9d-b00e-bc4de5a36c35"
      },
      "outputs": [
        {
          "output_type": "stream",
          "name": "stdout",
          "text": [
            "enter value of n :5\n",
            "15\n"
          ]
        }
      ],
      "source": [
        "#sum up the number till n numbers\n",
        "n=int(input(\"enter value of n :\"))\n",
        "starting_point = 0\n",
        "counter = 1\n",
        "while counter <= n:\n",
        "    starting_point = starting_point + counter\n",
        "    counter = counter + 1\n",
        "print(starting_point)\n"
      ]
    },
    {
      "cell_type": "code",
      "source": [
        "#find factorial of a number\n",
        "number = int(input(\"enter a number :\"))\n",
        "factorial = 1\n",
        "while number > 0:\n",
        "    factorial = factorial * number\n",
        "    number = number - 1\n",
        "print(factorial)"
      ],
      "metadata": {
        "colab": {
          "base_uri": "https://localhost:8080/"
        },
        "id": "bNWogGQy324T",
        "outputId": "239b7acb-8e46-4b00-95c7-cd6a54c9ea30"
      },
      "execution_count": 3,
      "outputs": [
        {
          "output_type": "stream",
          "name": "stdout",
          "text": [
            "enter a number :5\n",
            "120\n"
          ]
        }
      ]
    },
    {
      "cell_type": "code",
      "source": [
        "#fibonacci series {method 1}\n",
        "\n",
        "number = int(input(\"enter number of element  :\"))\n",
        "a,b = 0,1\n",
        "couner=0\n",
        "while couner < number:\n",
        "    print(a)\n",
        "    c=a+b\n",
        "    a=b\n",
        "    b=c\n",
        "    couner=couner+1"
      ],
      "metadata": {
        "colab": {
          "base_uri": "https://localhost:8080/"
        },
        "id": "dZCGLHUt4flc",
        "outputId": "c3a42ad4-20dc-4354-b8b9-9a77d28881e5"
      },
      "execution_count": 4,
      "outputs": [
        {
          "output_type": "stream",
          "name": "stdout",
          "text": [
            "enter number of element  :10\n",
            "0\n",
            "1\n",
            "1\n",
            "2\n",
            "3\n",
            "5\n",
            "8\n",
            "13\n",
            "21\n",
            "34\n"
          ]
        }
      ]
    },
    {
      "cell_type": "code",
      "source": [
        "# fibonacci series {method 2}\n",
        "a,b=0,1\n",
        "for i in range(10):\n",
        "   print(a)\n",
        "   c=a+b\n",
        "   a=b\n",
        "   b=c\n"
      ],
      "metadata": {
        "colab": {
          "base_uri": "https://localhost:8080/"
        },
        "id": "fsU1xd5F5QdM",
        "outputId": "03cbd325-7e3b-4655-b9a7-9fa5faaee017"
      },
      "execution_count": 6,
      "outputs": [
        {
          "output_type": "stream",
          "name": "stdout",
          "text": [
            "0\n",
            "1\n",
            "1\n",
            "2\n",
            "3\n",
            "5\n",
            "8\n",
            "13\n",
            "21\n",
            "34\n"
          ]
        }
      ]
    },
    {
      "cell_type": "code",
      "source": [
        "#reverse of a given word {method 1}\n",
        "word = input(\"enter a word :\")\n",
        "reverse = \"\"\n",
        "length = len(word)\n",
        "while length > 0:\n",
        "    reverse = reverse + word[length - 1]\n",
        "    length = length - 1\n",
        "print(reverse)"
      ],
      "metadata": {
        "colab": {
          "base_uri": "https://localhost:8080/"
        },
        "id": "a8iPqomC54ct",
        "outputId": "6a0803ef-bfa9-4335-ba98-f71291752fd6"
      },
      "execution_count": 7,
      "outputs": [
        {
          "output_type": "stream",
          "name": "stdout",
          "text": [
            "enter a word :Amit\n",
            "timA\n"
          ]
        }
      ]
    },
    {
      "cell_type": "code",
      "source": [
        "#reverse of a given word {method 2}\n",
        "word = input(\"enter a word :\")\n",
        "print(word[::-1])"
      ],
      "metadata": {
        "colab": {
          "base_uri": "https://localhost:8080/"
        },
        "id": "wI_5RXtt6oWU",
        "outputId": "1b1d95f9-4fcd-4178-9ae4-00a9336f7ef2"
      },
      "execution_count": 8,
      "outputs": [
        {
          "output_type": "stream",
          "name": "stdout",
          "text": [
            "enter a word :Amit\n",
            "timA\n"
          ]
        }
      ]
    },
    {
      "cell_type": "code",
      "source": [
        "#print table of a number\n",
        "number = int(input(\"enter a number :\"))\n",
        "counter = 1\n",
        "while counter <= 10:\n",
        "    result = number * counter\n",
        "    print(number,\"*\",counter,\"=\",result)\n",
        "    counter = counter + 1"
      ],
      "metadata": {
        "colab": {
          "base_uri": "https://localhost:8080/"
        },
        "id": "f6hea6rR7AyH",
        "outputId": "1c216812-fcc3-487e-cfc4-cf9c2e7a204b"
      },
      "execution_count": 9,
      "outputs": [
        {
          "output_type": "stream",
          "name": "stdout",
          "text": [
            "enter a number :10\n",
            "10 * 1 = 10\n",
            "10 * 2 = 20\n",
            "10 * 3 = 30\n",
            "10 * 4 = 40\n",
            "10 * 5 = 50\n",
            "10 * 6 = 60\n",
            "10 * 7 = 70\n",
            "10 * 8 = 80\n",
            "10 * 9 = 90\n",
            "10 * 10 = 100\n"
          ]
        }
      ]
    },
    {
      "cell_type": "code",
      "source": [
        "#while-else statement in python\n",
        "counter = 1\n",
        "while counter <= 5:\n",
        "    print(counter)\n",
        "    counter = counter + 1\n",
        "else:\n",
        "    print(\"done\")\n",
        "#else block executed only if while loop is completed successfully"
      ],
      "metadata": {
        "colab": {
          "base_uri": "https://localhost:8080/"
        },
        "id": "dBzfE3D27T6K",
        "outputId": "9eaea66c-1c53-408f-e308-0747f81fcbff"
      },
      "execution_count": 10,
      "outputs": [
        {
          "output_type": "stream",
          "name": "stdout",
          "text": [
            "1\n",
            "2\n",
            "3\n",
            "4\n",
            "5\n",
            "done\n"
          ]
        }
      ]
    },
    {
      "cell_type": "code",
      "source": [
        "#while-else statement in python\n",
        "counter = 1\n",
        "while counter <= 5:\n",
        "    print(counter)\n",
        "    if counter == 3:\n",
        "        break\n",
        "    counter = counter + 1\n",
        "else:\n",
        "    print(\"done\")\n",
        "#else block not executed only if while loop is not completed successfully"
      ],
      "metadata": {
        "colab": {
          "base_uri": "https://localhost:8080/"
        },
        "id": "J7zVGav48GZ-",
        "outputId": "655b27cc-c0db-4403-9347-d9facdaf80be"
      },
      "execution_count": 11,
      "outputs": [
        {
          "output_type": "stream",
          "name": "stdout",
          "text": [
            "1\n",
            "2\n",
            "3\n"
          ]
        }
      ]
    },
    {
      "cell_type": "code",
      "source": [],
      "metadata": {
        "id": "ZODwQi5I8hbz"
      },
      "execution_count": null,
      "outputs": []
    }
  ]
}