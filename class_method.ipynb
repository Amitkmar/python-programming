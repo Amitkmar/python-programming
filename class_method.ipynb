{
  "nbformat": 4,
  "nbformat_minor": 0,
  "metadata": {
    "colab": {
      "provenance": [],
      "authorship_tag": "ABX9TyOEIcKtVH9uxfIJwBftEJWz",
      "include_colab_link": true
    },
    "kernelspec": {
      "name": "python3",
      "display_name": "Python 3"
    },
    "language_info": {
      "name": "python"
    }
  },
  "cells": [
    {
      "cell_type": "markdown",
      "metadata": {
        "id": "view-in-github",
        "colab_type": "text"
      },
      "source": [
        "<a href=\"https://colab.research.google.com/github/Amitkmar/python-programming/blob/main/class_method.ipynb\" target=\"_parent\"><img src=\"https://colab.research.google.com/assets/colab-badge.svg\" alt=\"Open In Colab\"/></a>"
      ]
    },
    {
      "cell_type": "code",
      "execution_count": 55,
      "metadata": {
        "id": "F_GMsXZZL5mi"
      },
      "outputs": [],
      "source": [
        "class Academy:\n",
        "  def __init__(self, name, location):\n",
        "    self.name = name\n",
        "    self.location = location\n",
        "  def student_details(self):\n",
        "    print(self.name,self.location)\n",
        ""
      ]
    },
    {
      "cell_type": "code",
      "source": [
        "ac=Academy(\"Amit\",\"Haryana\")"
      ],
      "metadata": {
        "id": "zN0e72ArM7Ki"
      },
      "execution_count": 56,
      "outputs": []
    },
    {
      "cell_type": "code",
      "source": [
        "ac.location"
      ],
      "metadata": {
        "colab": {
          "base_uri": "https://localhost:8080/",
          "height": 35
        },
        "id": "Kak_orkQNJhf",
        "outputId": "becb3b70-0d2b-481b-a4cf-fab2b804cd3c"
      },
      "execution_count": 57,
      "outputs": [
        {
          "output_type": "execute_result",
          "data": {
            "text/plain": [
              "'Haryana'"
            ],
            "application/vnd.google.colaboratory.intrinsic+json": {
              "type": "string"
            }
          },
          "metadata": {},
          "execution_count": 57
        }
      ]
    },
    {
      "cell_type": "code",
      "source": [
        "ac.name"
      ],
      "metadata": {
        "colab": {
          "base_uri": "https://localhost:8080/",
          "height": 35
        },
        "id": "wpgW2EwcNMMm",
        "outputId": "284a3252-c3c0-4274-b6c8-f9216ab1357b"
      },
      "execution_count": 58,
      "outputs": [
        {
          "output_type": "execute_result",
          "data": {
            "text/plain": [
              "'Amit'"
            ],
            "application/vnd.google.colaboratory.intrinsic+json": {
              "type": "string"
            }
          },
          "metadata": {},
          "execution_count": 58
        }
      ]
    },
    {
      "cell_type": "code",
      "source": [
        "ac.student_details()"
      ],
      "metadata": {
        "colab": {
          "base_uri": "https://localhost:8080/"
        },
        "id": "Us1PhOjONTL8",
        "outputId": "275cb768-1074-45ac-b476-5bcafcc10af6"
      },
      "execution_count": 59,
      "outputs": [
        {
          "output_type": "stream",
          "name": "stdout",
          "text": [
            "Amit Haryana\n"
          ]
        }
      ]
    },
    {
      "cell_type": "code",
      "source": [
        "#python ke ander direct function overloading ka concept nahi hai\n",
        "#lekin phir bhi hmm overload kr skte hai kisi bhi function ko\n",
        "#with the help of class methods\n",
        "\n",
        "class Academy1:\n",
        "  def __init__(self, name, location):\n",
        "    self.name = name\n",
        "    self.location = location\n",
        "\n",
        "   #details function main hmm self pass nahi krenge kuch aur\n",
        "   #yaani cls pass kiya as a reference\n",
        "   #decorator classmethod ka use krenge taki hmm bina init\n",
        "   #method ke data pass kr ske\n",
        "  @classmethod\n",
        "  def details(cls,name,location):\n",
        "    return cls(name,location)\n",
        "\n",
        "\n",
        "  def student_details(self):\n",
        "    print(self.name,self.location)\n"
      ],
      "metadata": {
        "id": "2MoEKy0zNWDQ"
      },
      "execution_count": 60,
      "outputs": []
    },
    {
      "cell_type": "code",
      "source": [
        "#yaha par bina object bnaye bhi data pass kiya jaa skta hai\n",
        "#details method ek class method hai,ishe hmm directly class\n",
        "#ke naam se bhi call kr skte hai\n",
        "#init method ko overload kr diya bina init method ke\n",
        "#details method ki hekp se data ko pass kr diya\n",
        "ac1=Academy1.details(\"Amit\",\"Haryana\")"
      ],
      "metadata": {
        "id": "uyQT7vjpP3-Q"
      },
      "execution_count": 61,
      "outputs": []
    },
    {
      "cell_type": "code",
      "source": [
        "ac1.name"
      ],
      "metadata": {
        "colab": {
          "base_uri": "https://localhost:8080/",
          "height": 35
        },
        "id": "q8jOwH1nQdqG",
        "outputId": "7da40738-caba-49e4-87fd-5bc2cbf6f489"
      },
      "execution_count": 62,
      "outputs": [
        {
          "output_type": "execute_result",
          "data": {
            "text/plain": [
              "'Amit'"
            ],
            "application/vnd.google.colaboratory.intrinsic+json": {
              "type": "string"
            }
          },
          "metadata": {},
          "execution_count": 62
        }
      ]
    },
    {
      "cell_type": "code",
      "source": [
        "ac1.location"
      ],
      "metadata": {
        "colab": {
          "base_uri": "https://localhost:8080/",
          "height": 35
        },
        "id": "-1vvbuttRD64",
        "outputId": "8e0980a3-44cd-4759-e0a4-34f41e730dab"
      },
      "execution_count": 63,
      "outputs": [
        {
          "output_type": "execute_result",
          "data": {
            "text/plain": [
              "'Haryana'"
            ],
            "application/vnd.google.colaboratory.intrinsic+json": {
              "type": "string"
            }
          },
          "metadata": {},
          "execution_count": 63
        }
      ]
    },
    {
      "cell_type": "code",
      "source": [
        "ac1.student_details()"
      ],
      "metadata": {
        "colab": {
          "base_uri": "https://localhost:8080/"
        },
        "id": "bjud0NzuRGXp",
        "outputId": "5ffd3ad1-b6f9-48ad-9c25-f6eae2bad997"
      },
      "execution_count": 64,
      "outputs": [
        {
          "output_type": "stream",
          "name": "stdout",
          "text": [
            "Amit Haryana\n"
          ]
        }
      ]
    },
    {
      "cell_type": "code",
      "source": [
        "class Academy2:\n",
        "  #class variable\n",
        "  mobile_num=32443535\n",
        "\n",
        "  def __init__(self, name, location):\n",
        "    self.name = name\n",
        "    self.location = location\n",
        "\n",
        "  @classmethod\n",
        "  def change_num(cls,mobile):\n",
        "    Academy2.mobile_num=mobile\n",
        "\n",
        "  @classmethod\n",
        "  def details(cls,name,location):\n",
        "    return cls(name,location)\n",
        "\n",
        "\n",
        "  def student_details(self):\n",
        "    print(self.name,self.location,Academy2.mobile_num)\n",
        "\n"
      ],
      "metadata": {
        "id": "tzBNJoBiRkzp"
      },
      "execution_count": 65,
      "outputs": []
    },
    {
      "cell_type": "code",
      "source": [
        "#acess class variable with the help of class name\n",
        "#rather than creating object\n",
        "Academy2.mobile_num"
      ],
      "metadata": {
        "colab": {
          "base_uri": "https://localhost:8080/"
        },
        "id": "Uf-N90LlSZjY",
        "outputId": "08e79686-47e1-435a-baab-491dca10d84a"
      },
      "execution_count": 66,
      "outputs": [
        {
          "output_type": "execute_result",
          "data": {
            "text/plain": [
              "32443535"
            ]
          },
          "metadata": {},
          "execution_count": 66
        }
      ]
    },
    {
      "cell_type": "code",
      "source": [
        "Academy2.change_num(23423423)"
      ],
      "metadata": {
        "id": "OFpE-xyESzSy"
      },
      "execution_count": 67,
      "outputs": []
    },
    {
      "cell_type": "code",
      "source": [
        "Academy2.mobile_num"
      ],
      "metadata": {
        "colab": {
          "base_uri": "https://localhost:8080/"
        },
        "id": "PVKxG30LT2NG",
        "outputId": "9b6ba8a4-9c66-4263-bc5a-4630e5ad9033"
      },
      "execution_count": 68,
      "outputs": [
        {
          "output_type": "execute_result",
          "data": {
            "text/plain": [
              "23423423"
            ]
          },
          "metadata": {},
          "execution_count": 68
        }
      ]
    },
    {
      "cell_type": "code",
      "source": [
        "#object ki help se data ko access\n",
        "ac_obj=Academy2(\"amit\",\"haryana\")"
      ],
      "metadata": {
        "id": "NziD6rgET6TX"
      },
      "execution_count": 69,
      "outputs": []
    },
    {
      "cell_type": "code",
      "source": [
        "ac_obj.student_details()"
      ],
      "metadata": {
        "colab": {
          "base_uri": "https://localhost:8080/"
        },
        "id": "t9MlnSXyU17d",
        "outputId": "5c529911-04e5-4252-f531-33886b691299"
      },
      "execution_count": 70,
      "outputs": [
        {
          "output_type": "stream",
          "name": "stdout",
          "text": [
            "amit haryana 23423423\n"
          ]
        }
      ]
    },
    {
      "cell_type": "code",
      "source": [
        "class Academy3:\n",
        "  #class variable\n",
        "  mobile_num=32443535\n",
        "\n",
        "  def __init__(self, name, location):\n",
        "    self.name = name\n",
        "    self.location = location\n",
        "\n",
        "  @classmethod\n",
        "  def change_num(cls,mobile):\n",
        "    Academy3.mobile_num=mobile\n",
        "\n",
        "  @classmethod\n",
        "  def details(cls,name,location):\n",
        "    return cls(name,location)\n",
        "\n",
        "  def student_details(self):\n",
        "    print(self.name,self.location,Academy2.mobile_num)\n",
        ""
      ],
      "metadata": {
        "id": "Dh-s0VP_VC_-"
      },
      "execution_count": 71,
      "outputs": []
    },
    {
      "cell_type": "code",
      "source": [
        "#external function outside class\n",
        "def couurse_details(cls,course):\n",
        "  print(course)"
      ],
      "metadata": {
        "id": "s9GZOIq7VpdO"
      },
      "execution_count": 73,
      "outputs": []
    },
    {
      "cell_type": "code",
      "source": [
        "#external function ko Academy3 main kaise add kre\n",
        "Academy3.course_details=classmethod(couurse_details)"
      ],
      "metadata": {
        "id": "QBTQaOjhXAlk"
      },
      "execution_count": 74,
      "outputs": []
    },
    {
      "cell_type": "code",
      "source": [
        "Academy3.course_details(\"data science\")"
      ],
      "metadata": {
        "colab": {
          "base_uri": "https://localhost:8080/"
        },
        "id": "gjwKZLVzXg6L",
        "outputId": "77ff143a-e40c-49df-e13e-a58259c56517"
      },
      "execution_count": 75,
      "outputs": [
        {
          "output_type": "stream",
          "name": "stdout",
          "text": [
            "data science\n"
          ]
        }
      ]
    },
    {
      "cell_type": "code",
      "source": [
        "def mentor(cls,list_of_mentor):\n",
        "  print(list_of_mentor)\n"
      ],
      "metadata": {
        "id": "ERXrRQMnXyPM"
      },
      "execution_count": 76,
      "outputs": []
    },
    {
      "cell_type": "code",
      "source": [
        "Academy3.mentor=classmethod(mentor)"
      ],
      "metadata": {
        "id": "_weQH2C7YF2k"
      },
      "execution_count": 77,
      "outputs": []
    },
    {
      "cell_type": "code",
      "source": [
        "Academy3.mentor([\"naveen\",\"anurag\",\"himanshu\"])"
      ],
      "metadata": {
        "colab": {
          "base_uri": "https://localhost:8080/"
        },
        "id": "6alhaRHuYOqr",
        "outputId": "e841e3cb-868e-4c7e-b68e-5d1822bdbd18"
      },
      "execution_count": 78,
      "outputs": [
        {
          "output_type": "stream",
          "name": "stdout",
          "text": [
            "['naveen', 'anurag', 'himanshu']\n"
          ]
        }
      ]
    },
    {
      "cell_type": "code",
      "source": [
        "class Academy4:\n",
        "  #class variable\n",
        "  mobile_num=32443535\n",
        "\n",
        "  def __init__(self, name, location):\n",
        "    self.name = name\n",
        "    self.location = location\n",
        "\n",
        "  @classmethod\n",
        "  def change_num(cls,mobile):\n",
        "    Academy4.mobile_num=mobile\n",
        "\n",
        "  @classmethod\n",
        "  def details(cls,name,location):\n",
        "    return cls(name,location)\n",
        "\n",
        "  def student_details(self):\n",
        "    print(self.name,self.location,Academy2.mobile_num)\n",
        ""
      ],
      "metadata": {
        "id": "00zpj9NwYWW5"
      },
      "execution_count": 79,
      "outputs": []
    },
    {
      "cell_type": "code",
      "source": [
        "#deleting a function from a class\n",
        "del Academy4.change_num"
      ],
      "metadata": {
        "id": "6S5-MWYEY7m7"
      },
      "execution_count": 80,
      "outputs": []
    },
    {
      "cell_type": "code",
      "source": [
        "Academy4.change_num(13343543)"
      ],
      "metadata": {
        "colab": {
          "base_uri": "https://localhost:8080/",
          "height": 144
        },
        "id": "8Zc5E9JEZZkU",
        "outputId": "513c5d05-cd93-490a-e30c-a36c65988f8a"
      },
      "execution_count": 81,
      "outputs": [
        {
          "output_type": "error",
          "ename": "AttributeError",
          "evalue": "type object 'Academy4' has no attribute 'change_num'",
          "traceback": [
            "\u001b[0;31m---------------------------------------------------------------------------\u001b[0m",
            "\u001b[0;31mAttributeError\u001b[0m                            Traceback (most recent call last)",
            "\u001b[0;32m/tmp/ipython-input-81-3930299929.py\u001b[0m in \u001b[0;36m<cell line: 0>\u001b[0;34m()\u001b[0m\n\u001b[0;32m----> 1\u001b[0;31m \u001b[0mAcademy4\u001b[0m\u001b[0;34m.\u001b[0m\u001b[0mchange_num\u001b[0m\u001b[0;34m(\u001b[0m\u001b[0;36m13343543\u001b[0m\u001b[0;34m)\u001b[0m\u001b[0;34m\u001b[0m\u001b[0;34m\u001b[0m\u001b[0m\n\u001b[0m",
            "\u001b[0;31mAttributeError\u001b[0m: type object 'Academy4' has no attribute 'change_num'"
          ]
        }
      ]
    },
    {
      "cell_type": "code",
      "source": [
        "#second method to delete a function\n",
        "delattr(Academy4,\"details\")"
      ],
      "metadata": {
        "id": "JSU0Da5BZfF4"
      },
      "execution_count": 82,
      "outputs": []
    },
    {
      "cell_type": "code",
      "source": [
        "Academy4.details(\"amit\",\"haryana\")"
      ],
      "metadata": {
        "colab": {
          "base_uri": "https://localhost:8080/",
          "height": 144
        },
        "id": "kAfTQwzQZxav",
        "outputId": "fe69f7e2-e6cf-4bdd-c96b-d2bdfd33c261"
      },
      "execution_count": 83,
      "outputs": [
        {
          "output_type": "error",
          "ename": "AttributeError",
          "evalue": "type object 'Academy4' has no attribute 'details'",
          "traceback": [
            "\u001b[0;31m---------------------------------------------------------------------------\u001b[0m",
            "\u001b[0;31mAttributeError\u001b[0m                            Traceback (most recent call last)",
            "\u001b[0;32m/tmp/ipython-input-83-563934047.py\u001b[0m in \u001b[0;36m<cell line: 0>\u001b[0;34m()\u001b[0m\n\u001b[0;32m----> 1\u001b[0;31m \u001b[0mAcademy4\u001b[0m\u001b[0;34m.\u001b[0m\u001b[0mdetails\u001b[0m\u001b[0;34m(\u001b[0m\u001b[0;34m\"amit\"\u001b[0m\u001b[0;34m,\u001b[0m\u001b[0;34m\"haryana\"\u001b[0m\u001b[0;34m)\u001b[0m\u001b[0;34m\u001b[0m\u001b[0;34m\u001b[0m\u001b[0m\n\u001b[0m",
            "\u001b[0;31mAttributeError\u001b[0m: type object 'Academy4' has no attribute 'details'"
          ]
        }
      ]
    },
    {
      "cell_type": "code",
      "source": [
        "delattr(Academy4,\"student_details\")"
      ],
      "metadata": {
        "id": "VoBslaDLZ5YR"
      },
      "execution_count": 84,
      "outputs": []
    },
    {
      "cell_type": "code",
      "source": [
        "#deleting both direct class method or indirect class method\n",
        "Academy4.student_details()"
      ],
      "metadata": {
        "colab": {
          "base_uri": "https://localhost:8080/",
          "height": 162
        },
        "id": "jLR3_lHzaK_U",
        "outputId": "188e1246-d8f9-4d9c-9850-05edc128b965"
      },
      "execution_count": 85,
      "outputs": [
        {
          "output_type": "error",
          "ename": "AttributeError",
          "evalue": "type object 'Academy4' has no attribute 'student_details'",
          "traceback": [
            "\u001b[0;31m---------------------------------------------------------------------------\u001b[0m",
            "\u001b[0;31mAttributeError\u001b[0m                            Traceback (most recent call last)",
            "\u001b[0;32m/tmp/ipython-input-85-1856942630.py\u001b[0m in \u001b[0;36m<cell line: 0>\u001b[0;34m()\u001b[0m\n\u001b[1;32m      1\u001b[0m \u001b[0;31m#deleting both direct class method or indirect class method\u001b[0m\u001b[0;34m\u001b[0m\u001b[0;34m\u001b[0m\u001b[0m\n\u001b[0;32m----> 2\u001b[0;31m \u001b[0mAcademy4\u001b[0m\u001b[0;34m.\u001b[0m\u001b[0mstudent_details\u001b[0m\u001b[0;34m(\u001b[0m\u001b[0;34m)\u001b[0m\u001b[0;34m\u001b[0m\u001b[0;34m\u001b[0m\u001b[0m\n\u001b[0m",
            "\u001b[0;31mAttributeError\u001b[0m: type object 'Academy4' has no attribute 'student_details'"
          ]
        }
      ]
    },
    {
      "cell_type": "code",
      "source": [
        "#deleting a class variable also\n",
        "delattr(Academy4,\"mobile_num\")"
      ],
      "metadata": {
        "id": "DtCjVd-_aQrD"
      },
      "execution_count": 86,
      "outputs": []
    },
    {
      "cell_type": "code",
      "source": [],
      "metadata": {
        "id": "boYGOuzBammz"
      },
      "execution_count": 86,
      "outputs": []
    }
  ]
}