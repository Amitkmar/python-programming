{
  "nbformat": 4,
  "nbformat_minor": 0,
  "metadata": {
    "colab": {
      "provenance": [],
      "authorship_tag": "ABX9TyNRMc20LxRyZvOYNPXSYeD+",
      "include_colab_link": true
    },
    "kernelspec": {
      "name": "python3",
      "display_name": "Python 3"
    },
    "language_info": {
      "name": "python"
    }
  },
  "cells": [
    {
      "cell_type": "markdown",
      "metadata": {
        "id": "view-in-github",
        "colab_type": "text"
      },
      "source": [
        "<a href=\"https://colab.research.google.com/github/Amitkmar/python-programming/blob/main/Abstraction.ipynb\" target=\"_parent\"><img src=\"https://colab.research.google.com/assets/colab-badge.svg\" alt=\"Open In Colab\"/></a>"
      ]
    },
    {
      "cell_type": "code",
      "execution_count": 4,
      "metadata": {
        "id": "zBSTFQYQlCGV"
      },
      "outputs": [],
      "source": [
        "#Abstract class is used to create a blueprint or skeleton of a class\n",
        "#agar hame ish skeleton ka use krna hai to hmm ishe inherit kr skte hai\n",
        "#python main given hain class abc\n",
        "import abc\n",
        "class Academy:\n",
        "\n",
        "  #decorate all function using abc.abstract method,agar use krna hai to\n",
        "  @abc.abstractmethod\n",
        "  def students_details(self):\n",
        "    pass\n",
        "\n",
        "  @abc.abstractmethod\n",
        "  def students_assignment(self):\n",
        "    pass\n",
        "\n",
        "  @abc.abstractmethod\n",
        "  def students_marks(self):\n",
        "    pass"
      ]
    },
    {
      "cell_type": "code",
      "source": [
        "#students class inherit Academy class ko kr raha hai\n",
        "#taki skeleton ka use kr ske\n",
        "class students(Academy):\n",
        "  def students_details(self):\n",
        "    return \"this is a method for taking students details\"\n",
        "\n",
        "  def students_assignment(self):\n",
        "    return \"this is a method for assign details for a particular students\"\n"
      ],
      "metadata": {
        "id": "r1hvOV31lMky"
      },
      "execution_count": 5,
      "outputs": []
    },
    {
      "cell_type": "code",
      "source": [
        "class data_science_masters(students):\n",
        "  def students_marks(self):\n",
        "    return \"this will return a input to students marks\"\n",
        "  def students_assignment(self):\n",
        "    return \"this will give you a print of assignment details for data science \""
      ],
      "metadata": {
        "id": "vX_vlZOAo-FG"
      },
      "execution_count": 7,
      "outputs": []
    },
    {
      "cell_type": "code",
      "source": [
        "#object of data_science_masters class\n",
        "dsm=data_science_masters()\n",
        "dsm.students_details()"
      ],
      "metadata": {
        "colab": {
          "base_uri": "https://localhost:8080/",
          "height": 35
        },
        "id": "BFpwgp9WpC7R",
        "outputId": "cf9369f8-bc6b-4f2c-d892-aecee9122893"
      },
      "execution_count": 8,
      "outputs": [
        {
          "output_type": "execute_result",
          "data": {
            "text/plain": [
              "'this is a method for taking students details'"
            ],
            "application/vnd.google.colaboratory.intrinsic+json": {
              "type": "string"
            }
          },
          "metadata": {},
          "execution_count": 8
        }
      ]
    },
    {
      "cell_type": "code",
      "source": [
        "#object of students class\n",
        "sd=students()\n",
        "sd.students_details()"
      ],
      "metadata": {
        "colab": {
          "base_uri": "https://localhost:8080/",
          "height": 35
        },
        "id": "uj9n4lrTpa1C",
        "outputId": "bf24a816-4574-4fd6-d3d8-1f6faf3a791b"
      },
      "execution_count": 10,
      "outputs": [
        {
          "output_type": "execute_result",
          "data": {
            "text/plain": [
              "'this is a method for taking students details'"
            ],
            "application/vnd.google.colaboratory.intrinsic+json": {
              "type": "string"
            }
          },
          "metadata": {},
          "execution_count": 10
        }
      ]
    },
    {
      "cell_type": "code",
      "source": [],
      "metadata": {
        "id": "6gtqlqA5po2X"
      },
      "execution_count": null,
      "outputs": []
    }
  ]
}