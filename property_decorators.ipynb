{
  "nbformat": 4,
  "nbformat_minor": 0,
  "metadata": {
    "colab": {
      "provenance": [],
      "authorship_tag": "ABX9TyMsu9nmoK0q9hWy4oSk5pNW",
      "include_colab_link": true
    },
    "kernelspec": {
      "name": "python3",
      "display_name": "Python 3"
    },
    "language_info": {
      "name": "python"
    }
  },
  "cells": [
    {
      "cell_type": "markdown",
      "metadata": {
        "id": "view-in-github",
        "colab_type": "text"
      },
      "source": [
        "<a href=\"https://colab.research.google.com/github/Amitkmar/python-programming/blob/main/property_decorators.ipynb\" target=\"_parent\"><img src=\"https://colab.research.google.com/assets/colab-badge.svg\" alt=\"Open In Colab\"/></a>"
      ]
    },
    {
      "cell_type": "code",
      "execution_count": 32,
      "metadata": {
        "id": "tTSCgLtW__-J"
      },
      "outputs": [],
      "source": [
        "class pwskills :\n",
        "\n",
        "  def __init__(self , phone_number , name  ):\n",
        "    self.phone_number = phone_number\n",
        "    #variable ke name ke age single underscore lagane se wo protected\n",
        "    #aur double underscore lagane se wo private ho jaate hai\n",
        "    self.__name = name\n",
        "\n",
        "  #how to give access of private variable to the user\n",
        "  @property\n",
        "  def name_access(self):\n",
        "    return self.__name\n",
        "\n",
        "  @name_access.setter\n",
        "  def name_set(self,name):\n",
        "    self.__name = name\n",
        "\n",
        "  @name_access.deleter\n",
        "  def delete_name(self):\n",
        "    del self.__name"
      ]
    },
    {
      "cell_type": "code",
      "source": [
        "pw=pwskills(43543545,\"rohan\")"
      ],
      "metadata": {
        "id": "CGm_jFs_BxVv"
      },
      "execution_count": 33,
      "outputs": []
    },
    {
      "cell_type": "code",
      "source": [
        "pw.phone_number"
      ],
      "metadata": {
        "colab": {
          "base_uri": "https://localhost:8080/"
        },
        "id": "0bAwrS-hB6DH",
        "outputId": "19b57c54-fcaf-4370-bc42-318e239c430b"
      },
      "execution_count": 34,
      "outputs": [
        {
          "output_type": "execute_result",
          "data": {
            "text/plain": [
              "43543545"
            ]
          },
          "metadata": {},
          "execution_count": 34
        }
      ]
    },
    {
      "cell_type": "code",
      "source": [
        "#we can not access private variable directly\n",
        "pw.name_access"
      ],
      "metadata": {
        "colab": {
          "base_uri": "https://localhost:8080/",
          "height": 35
        },
        "id": "ftMGfh3VCA4e",
        "outputId": "37324829-8158-4a0b-e2ed-aaa736450bfb"
      },
      "execution_count": 35,
      "outputs": [
        {
          "output_type": "execute_result",
          "data": {
            "text/plain": [
              "'rohan'"
            ],
            "application/vnd.google.colaboratory.intrinsic+json": {
              "type": "string"
            }
          },
          "metadata": {},
          "execution_count": 35
        }
      ]
    },
    {
      "cell_type": "code",
      "source": [
        "pw.name_set=\"Amit\""
      ],
      "metadata": {
        "id": "cSTpbHk4CJF-"
      },
      "execution_count": 36,
      "outputs": []
    },
    {
      "cell_type": "code",
      "source": [
        "pw.name_access"
      ],
      "metadata": {
        "colab": {
          "base_uri": "https://localhost:8080/",
          "height": 35
        },
        "id": "lSSvJrUPENRq",
        "outputId": "91ec9c96-2c8a-44c7-dbb4-afdfbc59b2b0"
      },
      "execution_count": 37,
      "outputs": [
        {
          "output_type": "execute_result",
          "data": {
            "text/plain": [
              "'Amit'"
            ],
            "application/vnd.google.colaboratory.intrinsic+json": {
              "type": "string"
            }
          },
          "metadata": {},
          "execution_count": 37
        }
      ]
    },
    {
      "cell_type": "code",
      "source": [
        "pw.delete_name"
      ],
      "metadata": {
        "colab": {
          "base_uri": "https://localhost:8080/",
          "height": 35
        },
        "id": "2jzdA-NjEVBB",
        "outputId": "a4fa568a-0607-4393-bf16-917bc67ff398"
      },
      "execution_count": 38,
      "outputs": [
        {
          "output_type": "execute_result",
          "data": {
            "text/plain": [
              "'Amit'"
            ],
            "application/vnd.google.colaboratory.intrinsic+json": {
              "type": "string"
            }
          },
          "metadata": {},
          "execution_count": 38
        }
      ]
    },
    {
      "cell_type": "code",
      "source": [
        "pw.name"
      ],
      "metadata": {
        "colab": {
          "base_uri": "https://localhost:8080/",
          "height": 141
        },
        "id": "CymcliXVFrZ9",
        "outputId": "4f00feac-c32c-420f-b034-c4f6eb290e95"
      },
      "execution_count": 39,
      "outputs": [
        {
          "output_type": "error",
          "ename": "AttributeError",
          "evalue": "'pwskills' object has no attribute 'name'",
          "traceback": [
            "\u001b[0;31m---------------------------------------------------------------------------\u001b[0m",
            "\u001b[0;31mAttributeError\u001b[0m                            Traceback (most recent call last)",
            "\u001b[0;32m/tmp/ipython-input-2163608399.py\u001b[0m in \u001b[0;36m<cell line: 0>\u001b[0;34m()\u001b[0m\n\u001b[0;32m----> 1\u001b[0;31m \u001b[0mpw\u001b[0m\u001b[0;34m.\u001b[0m\u001b[0mname\u001b[0m\u001b[0;34m\u001b[0m\u001b[0;34m\u001b[0m\u001b[0m\n\u001b[0m",
            "\u001b[0;31mAttributeError\u001b[0m: 'pwskills' object has no attribute 'name'"
          ]
        }
      ]
    },
    {
      "cell_type": "code",
      "source": [],
      "metadata": {
        "id": "3U6gdMswFuTo"
      },
      "execution_count": null,
      "outputs": []
    }
  ]
}