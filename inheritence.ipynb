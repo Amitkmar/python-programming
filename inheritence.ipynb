{
  "nbformat": 4,
  "nbformat_minor": 0,
  "metadata": {
    "colab": {
      "provenance": [],
      "authorship_tag": "ABX9TyOg7QCHXM12yrAPYGQVqerQ",
      "include_colab_link": true
    },
    "kernelspec": {
      "name": "python3",
      "display_name": "Python 3"
    },
    "language_info": {
      "name": "python"
    }
  },
  "cells": [
    {
      "cell_type": "markdown",
      "metadata": {
        "id": "view-in-github",
        "colab_type": "text"
      },
      "source": [
        "<a href=\"https://colab.research.google.com/github/Amitkmar/python-programming/blob/main/inheritence.ipynb\" target=\"_parent\"><img src=\"https://colab.research.google.com/assets/colab-badge.svg\" alt=\"Open In Colab\"/></a>"
      ]
    },
    {
      "cell_type": "code",
      "execution_count": 1,
      "metadata": {
        "id": "R3h_Ji3VHX4c"
      },
      "outputs": [],
      "source": [
        "#ek class ke variable yaa method ko dusri class main use krna...\n",
        "class test:\n",
        "  def test_meth(self):\n",
        "    return \"this is my first class\""
      ]
    },
    {
      "cell_type": "code",
      "source": [
        "class child_test(test):\n",
        "  pass"
      ],
      "metadata": {
        "id": "Pa5NMerFdU4Z"
      },
      "execution_count": 2,
      "outputs": []
    },
    {
      "cell_type": "code",
      "source": [
        "child_test_obj=child_test()"
      ],
      "metadata": {
        "id": "D-OLaepSdr3g"
      },
      "execution_count": 3,
      "outputs": []
    },
    {
      "cell_type": "code",
      "source": [
        "#child_test_obj object hai child_test class ka\n",
        "#jo test class ke method ko access kr pa raha hai\n",
        "#with the help of inheritence\n",
        "child_test_obj.test_meth()"
      ],
      "metadata": {
        "colab": {
          "base_uri": "https://localhost:8080/",
          "height": 35
        },
        "id": "u4bCcji2d6Vl",
        "outputId": "401107c1-0eaf-43b1-f4ec-68eb93d1be7c"
      },
      "execution_count": 5,
      "outputs": [
        {
          "output_type": "execute_result",
          "data": {
            "text/plain": [
              "'this is my first class'"
            ],
            "application/vnd.google.colaboratory.intrinsic+json": {
              "type": "string"
            }
          },
          "metadata": {},
          "execution_count": 5
        }
      ]
    },
    {
      "cell_type": "code",
      "source": [
        "#multilevel inheritence\n",
        "class class1:\n",
        "  def test_class1(self):\n",
        "    return \"this is a method from class1\""
      ],
      "metadata": {
        "id": "5KrH8ZyDeH71"
      },
      "execution_count": 17,
      "outputs": []
    },
    {
      "cell_type": "code",
      "source": [
        "class class2(class1):\n",
        "  def test_class2(self):\n",
        "    return \"this is a method from class2\""
      ],
      "metadata": {
        "id": "31zz9WoUfO8q"
      },
      "execution_count": 18,
      "outputs": []
    },
    {
      "cell_type": "code",
      "source": [
        "class class3(class2):\n",
        "  pass"
      ],
      "metadata": {
        "id": "aOvCL___fXaE"
      },
      "execution_count": 19,
      "outputs": []
    },
    {
      "cell_type": "code",
      "source": [
        "obj_class3=class3()"
      ],
      "metadata": {
        "id": "bAvipQbifeZV"
      },
      "execution_count": 20,
      "outputs": []
    },
    {
      "cell_type": "code",
      "source": [
        "#function calling with the help of class3 object\n",
        "obj_class3.test_class1()"
      ],
      "metadata": {
        "colab": {
          "base_uri": "https://localhost:8080/",
          "height": 35
        },
        "id": "Ql6GeXCifqn2",
        "outputId": "33f0bfb9-b7da-4e19-c99c-60ee52fc40fe"
      },
      "execution_count": 21,
      "outputs": [
        {
          "output_type": "execute_result",
          "data": {
            "text/plain": [
              "'this is a method from class1'"
            ],
            "application/vnd.google.colaboratory.intrinsic+json": {
              "type": "string"
            }
          },
          "metadata": {},
          "execution_count": 21
        }
      ]
    },
    {
      "cell_type": "code",
      "source": [
        "obj_class3.test_class2()"
      ],
      "metadata": {
        "colab": {
          "base_uri": "https://localhost:8080/",
          "height": 35
        },
        "id": "LVzb_PyMfwuA",
        "outputId": "e1be249b-d75d-43a9-dd68-3baa30d9b7af"
      },
      "execution_count": 22,
      "outputs": [
        {
          "output_type": "execute_result",
          "data": {
            "text/plain": [
              "'this is a method from class2'"
            ],
            "application/vnd.google.colaboratory.intrinsic+json": {
              "type": "string"
            }
          },
          "metadata": {},
          "execution_count": 22
        }
      ]
    },
    {
      "cell_type": "code",
      "source": [
        "#multiple inheritence\n",
        "class class1:\n",
        "  def test_class1(self):\n",
        "    return \"this is a class1\""
      ],
      "metadata": {
        "id": "yjIoMUWfgMQT"
      },
      "execution_count": 23,
      "outputs": []
    },
    {
      "cell_type": "code",
      "source": [
        "class class2():\n",
        "  def test_class2(self):\n",
        "    return \"this is a class2\""
      ],
      "metadata": {
        "id": "F4oxqKQHhgqf"
      },
      "execution_count": 28,
      "outputs": []
    },
    {
      "cell_type": "code",
      "source": [
        "class class3(class1,class2):\n",
        "  pass"
      ],
      "metadata": {
        "id": "qj_bzM15hos6"
      },
      "execution_count": 29,
      "outputs": []
    },
    {
      "cell_type": "code",
      "source": [
        "obj_class3=class3()"
      ],
      "metadata": {
        "id": "LE1t5tCNhxRy"
      },
      "execution_count": 30,
      "outputs": []
    },
    {
      "cell_type": "code",
      "source": [
        "obj_class3.test_class1()"
      ],
      "metadata": {
        "colab": {
          "base_uri": "https://localhost:8080/",
          "height": 35
        },
        "id": "rNHmXPveh9kw",
        "outputId": "6dede718-a08b-4f6e-c47b-883e763f2536"
      },
      "execution_count": 31,
      "outputs": [
        {
          "output_type": "execute_result",
          "data": {
            "text/plain": [
              "'this is a class1'"
            ],
            "application/vnd.google.colaboratory.intrinsic+json": {
              "type": "string"
            }
          },
          "metadata": {},
          "execution_count": 31
        }
      ]
    },
    {
      "cell_type": "code",
      "source": [
        "obj_class3.test_class2()"
      ],
      "metadata": {
        "colab": {
          "base_uri": "https://localhost:8080/",
          "height": 35
        },
        "id": "TgN6bYwliQfK",
        "outputId": "777b3a1d-4450-4ac3-fe55-36f7d259f394"
      },
      "execution_count": 32,
      "outputs": [
        {
          "output_type": "execute_result",
          "data": {
            "text/plain": [
              "'this is a class2'"
            ],
            "application/vnd.google.colaboratory.intrinsic+json": {
              "type": "string"
            }
          },
          "metadata": {},
          "execution_count": 32
        }
      ]
    },
    {
      "cell_type": "code",
      "source": [],
      "metadata": {
        "id": "c3PYPUAfiTXX"
      },
      "execution_count": null,
      "outputs": []
    }
  ]
}