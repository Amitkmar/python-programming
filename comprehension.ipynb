{
  "nbformat": 4,
  "nbformat_minor": 0,
  "metadata": {
    "colab": {
      "provenance": [],
      "authorship_tag": "ABX9TyP+9A+p2NRe37Kd5HCkr6Ay",
      "include_colab_link": true
    },
    "kernelspec": {
      "name": "python3",
      "display_name": "Python 3"
    },
    "language_info": {
      "name": "python"
    }
  },
  "cells": [
    {
      "cell_type": "markdown",
      "metadata": {
        "id": "view-in-github",
        "colab_type": "text"
      },
      "source": [
        "<a href=\"https://colab.research.google.com/github/Amitkmar/python-programming/blob/main/comprehension.ipynb\" target=\"_parent\"><img src=\"https://colab.research.google.com/assets/colab-badge.svg\" alt=\"Open In Colab\"/></a>"
      ]
    },
    {
      "cell_type": "code",
      "execution_count": 1,
      "metadata": {
        "id": "lgqoLnf7__cM"
      },
      "outputs": [],
      "source": [
        "# provide a concise and efficient way to create new sequences from existing literals\n",
        "# alternate way to use for loop for transformation and filtering"
      ]
    },
    {
      "cell_type": "code",
      "source": [
        "#printing square of all element in list {method 1}\n",
        "l=[1,2,3,4,6,9,10]\n",
        "l1=[]\n",
        "for i in l :\n",
        "  l1.append(i**2)\n",
        "print(l1)\n"
      ],
      "metadata": {
        "colab": {
          "base_uri": "https://localhost:8080/"
        },
        "id": "AmFvsUGpA6V7",
        "outputId": "7525fe17-0021-44f4-e4cb-34eeb277dde0"
      },
      "execution_count": 2,
      "outputs": [
        {
          "output_type": "stream",
          "name": "stdout",
          "text": [
            "[1, 4, 9, 16, 36, 81, 100]\n"
          ]
        }
      ]
    },
    {
      "cell_type": "code",
      "source": [
        "#printing square of all element in list {method 2} using comprehension\n",
        "l=[1,2,3,4,6,9,10]\n",
        "[i**2 for i in l]\n",
        "#i**2 represent output"
      ],
      "metadata": {
        "colab": {
          "base_uri": "https://localhost:8080/"
        },
        "id": "jJngl73BB0I4",
        "outputId": "2b0c2bd9-2056-4b32-91cd-5e61314b2d1a"
      },
      "execution_count": 4,
      "outputs": [
        {
          "output_type": "execute_result",
          "data": {
            "text/plain": [
              "[1, 4, 9, 16, 36, 81, 100]"
            ]
          },
          "metadata": {},
          "execution_count": 4
        }
      ]
    },
    {
      "cell_type": "code",
      "source": [
        "#printing number placed at even position in list\n",
        "l=[1,2,3,4,6,9,10]\n",
        "[i for i in l if i%2==0]\n",
        "#if i%2==0 represent condition"
      ],
      "metadata": {
        "colab": {
          "base_uri": "https://localhost:8080/"
        },
        "id": "9QFjuJTPCM0I",
        "outputId": "75de2072-1fbe-4415-9ff5-05a6dadb5ef1"
      },
      "execution_count": 5,
      "outputs": [
        {
          "output_type": "execute_result",
          "data": {
            "text/plain": [
              "[2, 4, 6, 10]"
            ]
          },
          "metadata": {},
          "execution_count": 5
        }
      ]
    },
    {
      "cell_type": "code",
      "source": [
        "l1=[\"sudh\",\"pwskills\",\"kumar\",\"data science master\"]\n",
        "[i.upper() for i in l1]"
      ],
      "metadata": {
        "colab": {
          "base_uri": "https://localhost:8080/"
        },
        "id": "LHrNWqc3CytO",
        "outputId": "c9d80198-c35a-44f7-ddd2-901830fe344e"
      },
      "execution_count": 6,
      "outputs": [
        {
          "output_type": "execute_result",
          "data": {
            "text/plain": [
              "['SUDH', 'PWSKILLS', 'KUMAR', 'DATA SCIENCE MASTER']"
            ]
          },
          "metadata": {},
          "execution_count": 6
        }
      ]
    },
    {
      "cell_type": "code",
      "source": [
        "d = {\"key1\" : \"value1\", \"key2\" : \"value2\"}\n",
        "for k,v in d.items():\n",
        "  print(k,v)"
      ],
      "metadata": {
        "colab": {
          "base_uri": "https://localhost:8080/"
        },
        "id": "xP0cN3Z_Dag4",
        "outputId": "37d7c31b-3e89-4986-a0c5-7a26ad04a71a"
      },
      "execution_count": 7,
      "outputs": [
        {
          "output_type": "stream",
          "name": "stdout",
          "text": [
            "key1 value1\n",
            "key2 value2\n"
          ]
        }
      ]
    },
    {
      "cell_type": "code",
      "source": [
        "# now using comprehension\n",
        "d1 = {\"key1\" : 1, \"key2\" : 2}\n",
        "{k:v**2 for k,v in d1.items()}"
      ],
      "metadata": {
        "colab": {
          "base_uri": "https://localhost:8080/"
        },
        "id": "_seDCWGBD3NN",
        "outputId": "38501bc8-567e-411b-9d7f-687b00ab41f8"
      },
      "execution_count": 9,
      "outputs": [
        {
          "output_type": "execute_result",
          "data": {
            "text/plain": [
              "{'key1': 1, 'key2': 4}"
            ]
          },
          "metadata": {},
          "execution_count": 9
        }
      ]
    },
    {
      "cell_type": "code",
      "source": [
        "{k:v for k,v in d1.items() if v>1}"
      ],
      "metadata": {
        "colab": {
          "base_uri": "https://localhost:8080/"
        },
        "id": "f_feu9fdEICq",
        "outputId": "0d7510d3-14e9-4417-a824-76258f61afe8"
      },
      "execution_count": 11,
      "outputs": [
        {
          "output_type": "execute_result",
          "data": {
            "text/plain": [
              "{'key2': 2}"
            ]
          },
          "metadata": {},
          "execution_count": 11
        }
      ]
    },
    {
      "cell_type": "code",
      "source": [],
      "metadata": {
        "id": "12KtmwBHE0C4"
      },
      "execution_count": null,
      "outputs": []
    }
  ]
}