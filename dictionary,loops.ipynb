{
  "nbformat": 4,
  "nbformat_minor": 0,
  "metadata": {
    "colab": {
      "provenance": []
    },
    "kernelspec": {
      "name": "python3",
      "display_name": "Python 3"
    },
    "language_info": {
      "name": "python"
    }
  },
  "cells": [
    {
      "cell_type": "code",
      "execution_count": null,
      "metadata": {
        "id": "cj_ZsKslFEKI"
      },
      "outputs": [],
      "source": [
        "d={}"
      ]
    },
    {
      "cell_type": "code",
      "source": [
        "type(d)"
      ],
      "metadata": {
        "colab": {
          "base_uri": "https://localhost:8080/"
        },
        "id": "8LPFcgsqFKfz",
        "outputId": "319c0e07-12ea-4ec9-e86c-92e295d82852"
      },
      "execution_count": null,
      "outputs": [
        {
          "output_type": "execute_result",
          "data": {
            "text/plain": [
              "dict"
            ]
          },
          "metadata": {},
          "execution_count": 2
        }
      ]
    },
    {
      "cell_type": "code",
      "source": [
        "d1={'key' : 'sudh'}"
      ],
      "metadata": {
        "id": "cu5cnNXMFRnl"
      },
      "execution_count": null,
      "outputs": []
    },
    {
      "cell_type": "code",
      "source": [
        "d1"
      ],
      "metadata": {
        "colab": {
          "base_uri": "https://localhost:8080/"
        },
        "id": "-zIX5QA5FfZm",
        "outputId": "160812cd-1a4a-4866-dcbd-611eff58ad96"
      },
      "execution_count": null,
      "outputs": [
        {
          "output_type": "execute_result",
          "data": {
            "text/plain": [
              "{'key': 'sudh'}"
            ]
          },
          "metadata": {},
          "execution_count": 4
        }
      ]
    },
    {
      "cell_type": "code",
      "source": [
        "d2={'name' : 'Amit' , 'email': 'ak@gmail.com', 'number':1234}"
      ],
      "metadata": {
        "id": "9gucr2-SFh8b"
      },
      "execution_count": null,
      "outputs": []
    },
    {
      "cell_type": "code",
      "source": [
        "d2"
      ],
      "metadata": {
        "colab": {
          "base_uri": "https://localhost:8080/"
        },
        "id": "03vd3CN1Ha7y",
        "outputId": "f54c8f92-dd71-40d8-bd62-693bb81262a3"
      },
      "execution_count": null,
      "outputs": [
        {
          "output_type": "execute_result",
          "data": {
            "text/plain": [
              "{'name': 'Amit', 'email': 'ak@gmail.com', 'number': 1234}"
            ]
          },
          "metadata": {},
          "execution_count": 7
        }
      ]
    },
    {
      "cell_type": "code",
      "source": [
        "d3={ 123 : 'amit'}"
      ],
      "metadata": {
        "id": "IKNgmoPSH-BV"
      },
      "execution_count": null,
      "outputs": []
    },
    {
      "cell_type": "code",
      "source": [
        "d4={'@are': 'hello'}"
      ],
      "metadata": {
        "id": "YlPr0Y6PIvRZ"
      },
      "execution_count": null,
      "outputs": []
    },
    {
      "cell_type": "code",
      "source": [
        "d5={@tr : 'hello'}"
      ],
      "metadata": {
        "colab": {
          "base_uri": "https://localhost:8080/",
          "height": 109
        },
        "id": "Lkk0PmowKw51",
        "outputId": "166fd1e5-41ae-450c-88b5-eafa6a77f27c"
      },
      "execution_count": null,
      "outputs": [
        {
          "output_type": "error",
          "ename": "SyntaxError",
          "evalue": "invalid syntax (ipython-input-10-2484669978.py, line 1)",
          "traceback": [
            "\u001b[0;36m  File \u001b[0;32m\"/tmp/ipython-input-10-2484669978.py\"\u001b[0;36m, line \u001b[0;32m1\u001b[0m\n\u001b[0;31m    d5={@tr : 'hello'}\u001b[0m\n\u001b[0m        ^\u001b[0m\n\u001b[0;31mSyntaxError\u001b[0m\u001b[0;31m:\u001b[0m invalid syntax\n"
          ]
        }
      ]
    },
    {
      "cell_type": "code",
      "source": [
        "d6={True: 1234}"
      ],
      "metadata": {
        "id": "OT5JABFBLND0"
      },
      "execution_count": null,
      "outputs": []
    },
    {
      "cell_type": "code",
      "source": [
        "d2"
      ],
      "metadata": {
        "colab": {
          "base_uri": "https://localhost:8080/"
        },
        "id": "sp804R-hLZ8z",
        "outputId": "3bcecdba-dec8-458b-88df-3d3862c2efd7"
      },
      "execution_count": null,
      "outputs": [
        {
          "output_type": "execute_result",
          "data": {
            "text/plain": [
              "{'name': 'Amit', 'email': 'ak@gmail.com', 'number': 1234}"
            ]
          },
          "metadata": {},
          "execution_count": 12
        }
      ]
    },
    {
      "cell_type": "code",
      "source": [
        "d2['name']"
      ],
      "metadata": {
        "colab": {
          "base_uri": "https://localhost:8080/",
          "height": 35
        },
        "id": "2I735SUILf3z",
        "outputId": "550676ee-ed7c-4e14-97d9-780d4b9ce4b3"
      },
      "execution_count": null,
      "outputs": [
        {
          "output_type": "execute_result",
          "data": {
            "text/plain": [
              "'Amit'"
            ],
            "application/vnd.google.colaboratory.intrinsic+json": {
              "type": "string"
            }
          },
          "metadata": {},
          "execution_count": 13
        }
      ]
    },
    {
      "cell_type": "code",
      "source": [
        "d2['number']"
      ],
      "metadata": {
        "colab": {
          "base_uri": "https://localhost:8080/"
        },
        "id": "va6PgkyYLv2n",
        "outputId": "79fbd630-9f16-4fae-a21c-5e3fbd3ac024"
      },
      "execution_count": null,
      "outputs": [
        {
          "output_type": "execute_result",
          "data": {
            "text/plain": [
              "1234"
            ]
          },
          "metadata": {},
          "execution_count": 14
        }
      ]
    },
    {
      "cell_type": "code",
      "source": [
        "d6[1]"
      ],
      "metadata": {
        "colab": {
          "base_uri": "https://localhost:8080/"
        },
        "id": "ritjkwxeMEqT",
        "outputId": "0cafccaf-7e7a-464f-b976-f82b30b32a91"
      },
      "execution_count": null,
      "outputs": [
        {
          "output_type": "execute_result",
          "data": {
            "text/plain": [
              "1234"
            ]
          },
          "metadata": {},
          "execution_count": 15
        }
      ]
    },
    {
      "cell_type": "code",
      "source": [
        "d2"
      ],
      "metadata": {
        "colab": {
          "base_uri": "https://localhost:8080/"
        },
        "id": "DWpKqqCOMHlc",
        "outputId": "b321565b-8fbf-4063-dec2-eb550e1715e4"
      },
      "execution_count": null,
      "outputs": [
        {
          "output_type": "execute_result",
          "data": {
            "text/plain": [
              "{'name': 'Amit', 'email': 'ak@gmail.com', 'number': 1234}"
            ]
          },
          "metadata": {},
          "execution_count": 16
        }
      ]
    },
    {
      "cell_type": "code",
      "source": [
        "d7={'name' : 'Amit' , 'email': 'ak@gmail.com', 'name':'kumar'}"
      ],
      "metadata": {
        "id": "crZKc7l5MRfQ"
      },
      "execution_count": null,
      "outputs": []
    },
    {
      "cell_type": "markdown",
      "source": [
        "override the value by key\n"
      ],
      "metadata": {
        "id": "J3IJwYOmNO9S"
      }
    },
    {
      "cell_type": "code",
      "source": [
        "d7['name']"
      ],
      "metadata": {
        "colab": {
          "base_uri": "https://localhost:8080/",
          "height": 35
        },
        "id": "buzP_VgWM_pa",
        "outputId": "a4e9c359-71d8-47e4-a84e-22d9a99b911c"
      },
      "execution_count": null,
      "outputs": [
        {
          "output_type": "execute_result",
          "data": {
            "text/plain": [
              "'kumar'"
            ],
            "application/vnd.google.colaboratory.intrinsic+json": {
              "type": "string"
            }
          },
          "metadata": {},
          "execution_count": 19
        }
      ]
    },
    {
      "cell_type": "code",
      "source": [
        "d9={ 'company': \"pwskills\", \"courses\":[\"wd\",\"dsa\",'java']}"
      ],
      "metadata": {
        "id": "C5Sfun03NK82"
      },
      "execution_count": null,
      "outputs": []
    },
    {
      "cell_type": "code",
      "source": [
        "d9"
      ],
      "metadata": {
        "colab": {
          "base_uri": "https://localhost:8080/"
        },
        "id": "_MP2XSkrOAE9",
        "outputId": "241349ff-3065-4fe7-a99a-19731e514587"
      },
      "execution_count": null,
      "outputs": [
        {
          "output_type": "execute_result",
          "data": {
            "text/plain": [
              "{'company': 'pwskills', 'courses': ['wd', 'dsa', 'java']}"
            ]
          },
          "metadata": {},
          "execution_count": 22
        }
      ]
    },
    {
      "cell_type": "code",
      "source": [
        "d9['courses']"
      ],
      "metadata": {
        "colab": {
          "base_uri": "https://localhost:8080/"
        },
        "id": "izeSe932OGQe",
        "outputId": "d4b11076-89a2-4f40-979a-4fb2e86c9e7f"
      },
      "execution_count": null,
      "outputs": [
        {
          "output_type": "execute_result",
          "data": {
            "text/plain": [
              "['wd', 'dsa', 'java']"
            ]
          },
          "metadata": {},
          "execution_count": 23
        }
      ]
    },
    {
      "cell_type": "code",
      "source": [
        "d9['courses'][2]"
      ],
      "metadata": {
        "colab": {
          "base_uri": "https://localhost:8080/",
          "height": 35
        },
        "id": "q9Foz3WBOOD5",
        "outputId": "ac6bd2d9-ef57-419b-c806-1f86b3201831"
      },
      "execution_count": null,
      "outputs": [
        {
          "output_type": "execute_result",
          "data": {
            "text/plain": [
              "'java'"
            ],
            "application/vnd.google.colaboratory.intrinsic+json": {
              "type": "string"
            }
          },
          "metadata": {},
          "execution_count": 25
        }
      ]
    },
    {
      "cell_type": "code",
      "source": [
        "d10={ 'number': [2,3,4,5,6],'assignment':(1,2,3,4,5),'date':{28,12,14},'time':{'wd':2,'dsa':3,'java':10} }"
      ],
      "metadata": {
        "id": "kiLTlRUtOUuH"
      },
      "execution_count": null,
      "outputs": []
    },
    {
      "cell_type": "code",
      "source": [
        "d10"
      ],
      "metadata": {
        "colab": {
          "base_uri": "https://localhost:8080/"
        },
        "id": "Vfbcu6YyO0-B",
        "outputId": "485ca075-5496-459d-fe06-aa2b597f0639"
      },
      "execution_count": null,
      "outputs": [
        {
          "output_type": "execute_result",
          "data": {
            "text/plain": [
              "{'number': [2, 3, 4, 5, 6],\n",
              " 'assignment': (1, 2, 3, 4, 5),\n",
              " 'date': {12, 14, 28},\n",
              " 'time': {'wd': 2, 'dsa': 3, 'java': 10}}"
            ]
          },
          "metadata": {},
          "execution_count": 29
        }
      ]
    },
    {
      "cell_type": "code",
      "source": [
        "d10['time']['java']"
      ],
      "metadata": {
        "colab": {
          "base_uri": "https://localhost:8080/"
        },
        "id": "_tlwEgFMP1k9",
        "outputId": "1db9ddb5-992c-400e-efa6-75a6683836bf"
      },
      "execution_count": null,
      "outputs": [
        {
          "output_type": "execute_result",
          "data": {
            "text/plain": [
              "10"
            ]
          },
          "metadata": {},
          "execution_count": 30
        }
      ]
    },
    {
      "cell_type": "code",
      "source": [
        "d10['mentor']=['amit','nitin','himanshu']"
      ],
      "metadata": {
        "id": "rAsILbBHQTjR"
      },
      "execution_count": null,
      "outputs": []
    },
    {
      "cell_type": "code",
      "source": [
        "d10"
      ],
      "metadata": {
        "colab": {
          "base_uri": "https://localhost:8080/"
        },
        "id": "2msJCYGcQ0rV",
        "outputId": "39a14fc8-61f0-400d-f3be-9d831228bb2d"
      },
      "execution_count": null,
      "outputs": [
        {
          "output_type": "execute_result",
          "data": {
            "text/plain": [
              "{'number': [2, 3, 4, 5, 6],\n",
              " 'assignment': (1, 2, 3, 4, 5),\n",
              " 'date': {12, 14, 28},\n",
              " 'time': {'wd': 2, 'dsa': 3, 'java': 10},\n",
              " 'mentor': ['amit', 'nitin', 'himanshu']}"
            ]
          },
          "metadata": {},
          "execution_count": 33
        }
      ]
    },
    {
      "cell_type": "code",
      "source": [
        "del d10['number']"
      ],
      "metadata": {
        "id": "kntdP21aQ7Oe"
      },
      "execution_count": null,
      "outputs": []
    },
    {
      "cell_type": "code",
      "source": [
        "d10"
      ],
      "metadata": {
        "colab": {
          "base_uri": "https://localhost:8080/"
        },
        "id": "kn1MqE3RRTdc",
        "outputId": "72ff9727-524f-41e3-c9d3-aaebd8be2fd3"
      },
      "execution_count": null,
      "outputs": [
        {
          "output_type": "execute_result",
          "data": {
            "text/plain": [
              "{'assignment': (1, 2, 3, 4, 5),\n",
              " 'date': {12, 14, 28},\n",
              " 'time': {'wd': 2, 'dsa': 3, 'java': 10},\n",
              " 'mentor': ['amit', 'nitin', 'himanshu']}"
            ]
          },
          "metadata": {},
          "execution_count": 35
        }
      ]
    },
    {
      "cell_type": "code",
      "source": [
        "d10.keys()"
      ],
      "metadata": {
        "colab": {
          "base_uri": "https://localhost:8080/"
        },
        "id": "5madVtmnRVfy",
        "outputId": "328b5532-cf44-46aa-d27c-fda2994ffb3e"
      },
      "execution_count": null,
      "outputs": [
        {
          "output_type": "execute_result",
          "data": {
            "text/plain": [
              "dict_keys(['assignment', 'date', 'time', 'mentor'])"
            ]
          },
          "metadata": {},
          "execution_count": 37
        }
      ]
    },
    {
      "cell_type": "code",
      "source": [
        "list(d10.keys())"
      ],
      "metadata": {
        "colab": {
          "base_uri": "https://localhost:8080/"
        },
        "id": "IdpoBKOvRdzx",
        "outputId": "1d4e95a9-8234-4c5b-80b3-8ab94e875622"
      },
      "execution_count": null,
      "outputs": [
        {
          "output_type": "execute_result",
          "data": {
            "text/plain": [
              "['assignment', 'date', 'time', 'mentor']"
            ]
          },
          "metadata": {},
          "execution_count": 38
        }
      ]
    },
    {
      "cell_type": "code",
      "source": [
        "d10.values()"
      ],
      "metadata": {
        "colab": {
          "base_uri": "https://localhost:8080/"
        },
        "id": "25h3FCuFRsQb",
        "outputId": "c2617f68-8ec3-41c2-8eac-93da1a2c06e5"
      },
      "execution_count": null,
      "outputs": [
        {
          "output_type": "execute_result",
          "data": {
            "text/plain": [
              "dict_values([(1, 2, 3, 4, 5), {28, 12, 14}, {'wd': 2, 'dsa': 3, 'java': 10}, ['amit', 'nitin', 'himanshu']])"
            ]
          },
          "metadata": {},
          "execution_count": 39
        }
      ]
    },
    {
      "cell_type": "code",
      "source": [
        "list(d10.values())"
      ],
      "metadata": {
        "colab": {
          "base_uri": "https://localhost:8080/"
        },
        "id": "RdSqjwSwRyD3",
        "outputId": "6ebf39b1-a310-4f24-eaef-895557378006"
      },
      "execution_count": null,
      "outputs": [
        {
          "output_type": "execute_result",
          "data": {
            "text/plain": [
              "[(1, 2, 3, 4, 5),\n",
              " {12, 14, 28},\n",
              " {'wd': 2, 'dsa': 3, 'java': 10},\n",
              " ['amit', 'nitin', 'himanshu']]"
            ]
          },
          "metadata": {},
          "execution_count": 40
        }
      ]
    },
    {
      "cell_type": "markdown",
      "source": [
        "return key value pair"
      ],
      "metadata": {
        "id": "_YwHb2CtSGg5"
      }
    },
    {
      "cell_type": "code",
      "source": [
        "d10.items()"
      ],
      "metadata": {
        "colab": {
          "base_uri": "https://localhost:8080/"
        },
        "id": "F4egcqgWR3cU",
        "outputId": "49742e2b-f84f-466a-a5b2-9c59f4925542"
      },
      "execution_count": null,
      "outputs": [
        {
          "output_type": "execute_result",
          "data": {
            "text/plain": [
              "dict_items([('assignment', (1, 2, 3, 4, 5)), ('date', {28, 12, 14}), ('time', {'wd': 2, 'dsa': 3, 'java': 10}), ('mentor', ['amit', 'nitin', 'himanshu'])])"
            ]
          },
          "metadata": {},
          "execution_count": 41
        }
      ]
    },
    {
      "cell_type": "markdown",
      "source": [],
      "metadata": {
        "id": "5Ll3cy0OSFII"
      }
    },
    {
      "cell_type": "code",
      "source": [
        "list(d10.items())"
      ],
      "metadata": {
        "colab": {
          "base_uri": "https://localhost:8080/"
        },
        "id": "X5aT9931SAA4",
        "outputId": "700cb6be-418b-42b5-9973-7638534d5b67"
      },
      "execution_count": null,
      "outputs": [
        {
          "output_type": "execute_result",
          "data": {
            "text/plain": [
              "[('assignment', (1, 2, 3, 4, 5)),\n",
              " ('date', {12, 14, 28}),\n",
              " ('time', {'wd': 2, 'dsa': 3, 'java': 10}),\n",
              " ('mentor', ['amit', 'nitin', 'himanshu'])]"
            ]
          },
          "metadata": {},
          "execution_count": 42
        }
      ]
    },
    {
      "cell_type": "code",
      "source": [
        "d10.pop('assignment')"
      ],
      "metadata": {
        "colab": {
          "base_uri": "https://localhost:8080/"
        },
        "id": "-KmDSMnNScGJ",
        "outputId": "1939a578-a0c9-4815-9bfc-6b8f48bad8d6"
      },
      "execution_count": null,
      "outputs": [
        {
          "output_type": "execute_result",
          "data": {
            "text/plain": [
              "(1, 2, 3, 4, 5)"
            ]
          },
          "metadata": {},
          "execution_count": 43
        }
      ]
    },
    {
      "cell_type": "code",
      "source": [
        "d10"
      ],
      "metadata": {
        "colab": {
          "base_uri": "https://localhost:8080/"
        },
        "id": "trJKcGmqS6ON",
        "outputId": "004111fd-794f-4a08-9655-a22bcfd43829"
      },
      "execution_count": null,
      "outputs": [
        {
          "output_type": "execute_result",
          "data": {
            "text/plain": [
              "{'date': {12, 14, 28},\n",
              " 'time': {'wd': 2, 'dsa': 3, 'java': 10},\n",
              " 'mentor': ['amit', 'nitin', 'himanshu']}"
            ]
          },
          "metadata": {},
          "execution_count": 44
        }
      ]
    },
    {
      "cell_type": "markdown",
      "source": [
        "list k case main agar argument naa dale to last item delete no error"
      ],
      "metadata": {
        "id": "XK74a5AlTnpr"
      }
    },
    {
      "cell_type": "code",
      "source": [
        "d10.pop()"
      ],
      "metadata": {
        "colab": {
          "base_uri": "https://localhost:8080/",
          "height": 144
        },
        "id": "L0NL0Ee6S7pp",
        "outputId": "60358507-c9cb-45d5-b7fb-f98b29e492d4"
      },
      "execution_count": null,
      "outputs": [
        {
          "output_type": "error",
          "ename": "TypeError",
          "evalue": "pop expected at least 1 argument, got 0",
          "traceback": [
            "\u001b[0;31m---------------------------------------------------------------------------\u001b[0m",
            "\u001b[0;31mTypeError\u001b[0m                                 Traceback (most recent call last)",
            "\u001b[0;32m/tmp/ipython-input-45-862671609.py\u001b[0m in \u001b[0;36m<cell line: 0>\u001b[0;34m()\u001b[0m\n\u001b[0;32m----> 1\u001b[0;31m \u001b[0md10\u001b[0m\u001b[0;34m.\u001b[0m\u001b[0mpop\u001b[0m\u001b[0;34m(\u001b[0m\u001b[0;34m)\u001b[0m\u001b[0;34m\u001b[0m\u001b[0;34m\u001b[0m\u001b[0m\n\u001b[0m",
            "\u001b[0;31mTypeError\u001b[0m: pop expected at least 1 argument, got 0"
          ]
        }
      ]
    },
    {
      "cell_type": "code",
      "source": [
        "marks=10\n",
        "if marks >= 80:\n",
        "    print(\"you will be a part of A0 batch\")\n",
        "elif marks >= 60 and marks < 80:\n",
        "    print(\"you will be a part of A1 batch\")\n",
        "elif marks >=40 and marks<60 :\n",
        "    print(\"you will be a part of A2 batch\")\n",
        "else :\n",
        "    print(\"you will be a part of A3 batch\")\n",
        "\n",
        ""
      ],
      "metadata": {
        "id": "-YKr-9PfTA7R",
        "colab": {
          "base_uri": "https://localhost:8080/"
        },
        "outputId": "e33c4440-d775-4e06-865a-17a279485a6e"
      },
      "execution_count": 1,
      "outputs": [
        {
          "output_type": "stream",
          "name": "stdout",
          "text": [
            "you will be a part of A3 batch\n"
          ]
        }
      ]
    },
    {
      "cell_type": "code",
      "source": [
        "price=int(input(\"enter price \"))\n",
        "if price > 1000:\n",
        "    print(\"i will not purchase\")\n",
        "else :\n",
        "    print(\"i will purchase\")"
      ],
      "metadata": {
        "colab": {
          "base_uri": "https://localhost:8080/"
        },
        "id": "Vj6RoLOwvOiW",
        "outputId": "3b69abe3-2178-42e0-e57c-fa0346162124"
      },
      "execution_count": 3,
      "outputs": [
        {
          "output_type": "stream",
          "name": "stdout",
          "text": [
            "enter price 100\n",
            "i will purchase\n"
          ]
        }
      ]
    },
    {
      "cell_type": "code",
      "source": [
        "price=int(input(\"enter price \"))\n",
        "if price > 1000:\n",
        "    print(\"i will not purchase\")\n",
        "    if price > 5000:\n",
        "      print('this is too much')\n",
        "    elif price<2000:\n",
        "      print('its ok')"
      ],
      "metadata": {
        "colab": {
          "base_uri": "https://localhost:8080/"
        },
        "id": "tAZ8wqrxvipe",
        "outputId": "7eef6359-df87-493f-ecf0-349765881ca5"
      },
      "execution_count": 6,
      "outputs": [
        {
          "output_type": "stream",
          "name": "stdout",
          "text": [
            "enter price 1500\n",
            "i will not purchase\n",
            "its ok\n"
          ]
        }
      ]
    },
    {
      "cell_type": "code",
      "source": [
        "l=[1,2,3,4,5,6,7,8]\n",
        "l1=[]\n",
        "for i in l:\n",
        "   print(i+1)\n",
        "   l1.append(i+1)\n",
        "l1\n"
      ],
      "metadata": {
        "colab": {
          "base_uri": "https://localhost:8080/"
        },
        "id": "uwChJtvfwVV4",
        "outputId": "84906015-bb87-41b7-a976-35cdba3b0c40"
      },
      "execution_count": 11,
      "outputs": [
        {
          "output_type": "stream",
          "name": "stdout",
          "text": [
            "2\n",
            "3\n",
            "4\n",
            "5\n",
            "6\n",
            "7\n",
            "8\n",
            "9\n"
          ]
        },
        {
          "output_type": "execute_result",
          "data": {
            "text/plain": [
              "[2, 3, 4, 5, 6, 7, 8, 9]"
            ]
          },
          "metadata": {},
          "execution_count": 11
        }
      ]
    },
    {
      "cell_type": "code",
      "source": [
        "l=['hello','my','name','is','Amit']\n",
        "l1=[]\n",
        "for i in l:\n",
        "  print(i)\n",
        "  l1.append(i.upper())\n",
        "l1"
      ],
      "metadata": {
        "colab": {
          "base_uri": "https://localhost:8080/"
        },
        "id": "xvljQa6cx4qL",
        "outputId": "39cce577-288f-4791-8269-b204f082e0d0"
      },
      "execution_count": 12,
      "outputs": [
        {
          "output_type": "stream",
          "name": "stdout",
          "text": [
            "hello\n",
            "my\n",
            "name\n",
            "is\n",
            "Amit\n"
          ]
        },
        {
          "output_type": "execute_result",
          "data": {
            "text/plain": [
              "['HELLO', 'MY', 'NAME', 'IS', 'AMIT']"
            ]
          },
          "metadata": {},
          "execution_count": 12
        }
      ]
    },
    {
      "cell_type": "code",
      "source": [
        "l=[1,2,3,4,4,'amit','kumar',324,34.456,'hello']\n",
        "l1_num=[]\n",
        "l2_str=[]\n",
        "for i in l :\n",
        "  if type(i)==int or type(i)==float :\n",
        "    l1_num.append(i)\n",
        "  else :\n",
        "    l2_str.append(i)\n",
        "\n",
        "print(l2_str)\n",
        "l1_num\n",
        ""
      ],
      "metadata": {
        "colab": {
          "base_uri": "https://localhost:8080/"
        },
        "id": "js4K2UCryy_b",
        "outputId": "ab5a7939-c959-4dd8-94fd-c2934d17f82a"
      },
      "execution_count": 19,
      "outputs": [
        {
          "output_type": "stream",
          "name": "stdout",
          "text": [
            "['amit', 'kumar', 'hello']\n"
          ]
        },
        {
          "output_type": "execute_result",
          "data": {
            "text/plain": [
              "[1, 2, 3, 4, 4, 324, 34.456]"
            ]
          },
          "metadata": {},
          "execution_count": 19
        }
      ]
    },
    {
      "cell_type": "code",
      "source": [],
      "metadata": {
        "id": "p6mfLGhDz2Tm"
      },
      "execution_count": null,
      "outputs": []
    }
  ]
}